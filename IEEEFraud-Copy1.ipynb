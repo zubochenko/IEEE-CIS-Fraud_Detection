{
 "cells": [
  {
   "cell_type": "code",
   "execution_count": 1,
   "metadata": {},
   "outputs": [],
   "source": [
    "import numpy as np\n",
    "import pandas as pd\n",
    "import matplotlib.pyplot as plt\n",
    "import seaborn as sns\n",
    "from sklearn.model_selection import train_test_split\n",
    "import xgboost as xgb\n",
    "from sklearn import preprocessing\n",
    "from sklearn.utils import resample"
   ]
  },
  {
   "cell_type": "code",
   "execution_count": 2,
   "metadata": {},
   "outputs": [],
   "source": [
    "train_transaction = pd.read_csv('train_transaction.csv')\n",
    "test_transaction = pd.read_csv('test_transaction.csv')\n",
    "train_identity = pd.read_csv('train_identity.csv')\n",
    "test_identity = pd.read_csv('test_identity.csv')\n",
    "sample_submission = pd.read_csv('sample_submission.csv')"
   ]
  },
  {
   "cell_type": "code",
   "execution_count": 3,
   "metadata": {},
   "outputs": [
    {
     "data": {
      "text/html": [
       "<div>\n",
       "<style scoped>\n",
       "    .dataframe tbody tr th:only-of-type {\n",
       "        vertical-align: middle;\n",
       "    }\n",
       "\n",
       "    .dataframe tbody tr th {\n",
       "        vertical-align: top;\n",
       "    }\n",
       "\n",
       "    .dataframe thead th {\n",
       "        text-align: right;\n",
       "    }\n",
       "</style>\n",
       "<table border=\"1\" class=\"dataframe\">\n",
       "  <thead>\n",
       "    <tr style=\"text-align: right;\">\n",
       "      <th></th>\n",
       "      <th>TransactionID</th>\n",
       "      <th>isFraud</th>\n",
       "      <th>TransactionDT</th>\n",
       "      <th>TransactionAmt</th>\n",
       "      <th>ProductCD</th>\n",
       "      <th>card1</th>\n",
       "      <th>card2</th>\n",
       "      <th>card3</th>\n",
       "      <th>card4</th>\n",
       "      <th>card5</th>\n",
       "      <th>...</th>\n",
       "      <th>V330</th>\n",
       "      <th>V331</th>\n",
       "      <th>V332</th>\n",
       "      <th>V333</th>\n",
       "      <th>V334</th>\n",
       "      <th>V335</th>\n",
       "      <th>V336</th>\n",
       "      <th>V337</th>\n",
       "      <th>V338</th>\n",
       "      <th>V339</th>\n",
       "    </tr>\n",
       "  </thead>\n",
       "  <tbody>\n",
       "    <tr>\n",
       "      <th>0</th>\n",
       "      <td>2987000</td>\n",
       "      <td>0</td>\n",
       "      <td>86400</td>\n",
       "      <td>68.5</td>\n",
       "      <td>W</td>\n",
       "      <td>13926</td>\n",
       "      <td>NaN</td>\n",
       "      <td>150.0</td>\n",
       "      <td>discover</td>\n",
       "      <td>142.0</td>\n",
       "      <td>...</td>\n",
       "      <td>NaN</td>\n",
       "      <td>NaN</td>\n",
       "      <td>NaN</td>\n",
       "      <td>NaN</td>\n",
       "      <td>NaN</td>\n",
       "      <td>NaN</td>\n",
       "      <td>NaN</td>\n",
       "      <td>NaN</td>\n",
       "      <td>NaN</td>\n",
       "      <td>NaN</td>\n",
       "    </tr>\n",
       "    <tr>\n",
       "      <th>1</th>\n",
       "      <td>2987001</td>\n",
       "      <td>0</td>\n",
       "      <td>86401</td>\n",
       "      <td>29.0</td>\n",
       "      <td>W</td>\n",
       "      <td>2755</td>\n",
       "      <td>404.0</td>\n",
       "      <td>150.0</td>\n",
       "      <td>mastercard</td>\n",
       "      <td>102.0</td>\n",
       "      <td>...</td>\n",
       "      <td>NaN</td>\n",
       "      <td>NaN</td>\n",
       "      <td>NaN</td>\n",
       "      <td>NaN</td>\n",
       "      <td>NaN</td>\n",
       "      <td>NaN</td>\n",
       "      <td>NaN</td>\n",
       "      <td>NaN</td>\n",
       "      <td>NaN</td>\n",
       "      <td>NaN</td>\n",
       "    </tr>\n",
       "    <tr>\n",
       "      <th>2</th>\n",
       "      <td>2987002</td>\n",
       "      <td>0</td>\n",
       "      <td>86469</td>\n",
       "      <td>59.0</td>\n",
       "      <td>W</td>\n",
       "      <td>4663</td>\n",
       "      <td>490.0</td>\n",
       "      <td>150.0</td>\n",
       "      <td>visa</td>\n",
       "      <td>166.0</td>\n",
       "      <td>...</td>\n",
       "      <td>NaN</td>\n",
       "      <td>NaN</td>\n",
       "      <td>NaN</td>\n",
       "      <td>NaN</td>\n",
       "      <td>NaN</td>\n",
       "      <td>NaN</td>\n",
       "      <td>NaN</td>\n",
       "      <td>NaN</td>\n",
       "      <td>NaN</td>\n",
       "      <td>NaN</td>\n",
       "    </tr>\n",
       "    <tr>\n",
       "      <th>3</th>\n",
       "      <td>2987003</td>\n",
       "      <td>0</td>\n",
       "      <td>86499</td>\n",
       "      <td>50.0</td>\n",
       "      <td>W</td>\n",
       "      <td>18132</td>\n",
       "      <td>567.0</td>\n",
       "      <td>150.0</td>\n",
       "      <td>mastercard</td>\n",
       "      <td>117.0</td>\n",
       "      <td>...</td>\n",
       "      <td>NaN</td>\n",
       "      <td>NaN</td>\n",
       "      <td>NaN</td>\n",
       "      <td>NaN</td>\n",
       "      <td>NaN</td>\n",
       "      <td>NaN</td>\n",
       "      <td>NaN</td>\n",
       "      <td>NaN</td>\n",
       "      <td>NaN</td>\n",
       "      <td>NaN</td>\n",
       "    </tr>\n",
       "    <tr>\n",
       "      <th>4</th>\n",
       "      <td>2987004</td>\n",
       "      <td>0</td>\n",
       "      <td>86506</td>\n",
       "      <td>50.0</td>\n",
       "      <td>H</td>\n",
       "      <td>4497</td>\n",
       "      <td>514.0</td>\n",
       "      <td>150.0</td>\n",
       "      <td>mastercard</td>\n",
       "      <td>102.0</td>\n",
       "      <td>...</td>\n",
       "      <td>0.0</td>\n",
       "      <td>0.0</td>\n",
       "      <td>0.0</td>\n",
       "      <td>0.0</td>\n",
       "      <td>0.0</td>\n",
       "      <td>0.0</td>\n",
       "      <td>0.0</td>\n",
       "      <td>0.0</td>\n",
       "      <td>0.0</td>\n",
       "      <td>0.0</td>\n",
       "    </tr>\n",
       "  </tbody>\n",
       "</table>\n",
       "<p>5 rows × 394 columns</p>\n",
       "</div>"
      ],
      "text/plain": [
       "   TransactionID  isFraud  TransactionDT  TransactionAmt ProductCD  card1  \\\n",
       "0        2987000        0          86400            68.5         W  13926   \n",
       "1        2987001        0          86401            29.0         W   2755   \n",
       "2        2987002        0          86469            59.0         W   4663   \n",
       "3        2987003        0          86499            50.0         W  18132   \n",
       "4        2987004        0          86506            50.0         H   4497   \n",
       "\n",
       "   card2  card3       card4  card5  ...  V330  V331  V332  V333  V334 V335  \\\n",
       "0    NaN  150.0    discover  142.0  ...   NaN   NaN   NaN   NaN   NaN  NaN   \n",
       "1  404.0  150.0  mastercard  102.0  ...   NaN   NaN   NaN   NaN   NaN  NaN   \n",
       "2  490.0  150.0        visa  166.0  ...   NaN   NaN   NaN   NaN   NaN  NaN   \n",
       "3  567.0  150.0  mastercard  117.0  ...   NaN   NaN   NaN   NaN   NaN  NaN   \n",
       "4  514.0  150.0  mastercard  102.0  ...   0.0   0.0   0.0   0.0   0.0  0.0   \n",
       "\n",
       "  V336  V337  V338  V339  \n",
       "0  NaN   NaN   NaN   NaN  \n",
       "1  NaN   NaN   NaN   NaN  \n",
       "2  NaN   NaN   NaN   NaN  \n",
       "3  NaN   NaN   NaN   NaN  \n",
       "4  0.0   0.0   0.0   0.0  \n",
       "\n",
       "[5 rows x 394 columns]"
      ]
     },
     "execution_count": 3,
     "metadata": {},
     "output_type": "execute_result"
    }
   ],
   "source": [
    "train_transaction.head()"
   ]
  },
  {
   "cell_type": "code",
   "execution_count": 4,
   "metadata": {},
   "outputs": [
    {
     "name": "stdout",
     "output_type": "stream",
     "text": [
      "<class 'pandas.core.frame.DataFrame'>\n",
      "RangeIndex: 590540 entries, 0 to 590539\n",
      "Columns: 394 entries, TransactionID to V339\n",
      "dtypes: float64(376), int64(4), object(14)\n",
      "memory usage: 1.7+ GB\n"
     ]
    }
   ],
   "source": [
    "train_transaction.info()"
   ]
  },
  {
   "cell_type": "code",
   "execution_count": 5,
   "metadata": {},
   "outputs": [
    {
     "name": "stdout",
     "output_type": "stream",
     "text": [
      "<class 'pandas.core.frame.DataFrame'>\n",
      "RangeIndex: 144233 entries, 0 to 144232\n",
      "Data columns (total 41 columns):\n",
      "TransactionID    144233 non-null int64\n",
      "id_01            144233 non-null float64\n",
      "id_02            140872 non-null float64\n",
      "id_03            66324 non-null float64\n",
      "id_04            66324 non-null float64\n",
      "id_05            136865 non-null float64\n",
      "id_06            136865 non-null float64\n",
      "id_07            5155 non-null float64\n",
      "id_08            5155 non-null float64\n",
      "id_09            74926 non-null float64\n",
      "id_10            74926 non-null float64\n",
      "id_11            140978 non-null float64\n",
      "id_12            144233 non-null object\n",
      "id_13            127320 non-null float64\n",
      "id_14            80044 non-null float64\n",
      "id_15            140985 non-null object\n",
      "id_16            129340 non-null object\n",
      "id_17            139369 non-null float64\n",
      "id_18            45113 non-null float64\n",
      "id_19            139318 non-null float64\n",
      "id_20            139261 non-null float64\n",
      "id_21            5159 non-null float64\n",
      "id_22            5169 non-null float64\n",
      "id_23            5169 non-null object\n",
      "id_24            4747 non-null float64\n",
      "id_25            5132 non-null float64\n",
      "id_26            5163 non-null float64\n",
      "id_27            5169 non-null object\n",
      "id_28            140978 non-null object\n",
      "id_29            140978 non-null object\n",
      "id_30            77565 non-null object\n",
      "id_31            140282 non-null object\n",
      "id_32            77586 non-null float64\n",
      "id_33            73289 non-null object\n",
      "id_34            77805 non-null object\n",
      "id_35            140985 non-null object\n",
      "id_36            140985 non-null object\n",
      "id_37            140985 non-null object\n",
      "id_38            140985 non-null object\n",
      "DeviceType       140810 non-null object\n",
      "DeviceInfo       118666 non-null object\n",
      "dtypes: float64(23), int64(1), object(17)\n",
      "memory usage: 45.1+ MB\n"
     ]
    }
   ],
   "source": [
    "train_identity.info()"
   ]
  },
  {
   "cell_type": "code",
   "execution_count": 6,
   "metadata": {},
   "outputs": [
    {
     "data": {
      "text/plain": [
       "Text(0.5,1,'Target')"
      ]
     },
     "execution_count": 6,
     "metadata": {},
     "output_type": "execute_result"
    },
    {
     "data": {
      "image/png": "[encoded data removed]",
      "text/plain": [
       "<Figure size 432x288 with 1 Axes>"
      ]
     },
     "metadata": {},
     "output_type": "display_data"
    }
   ],
   "source": [
    "x = train_transaction['isFraud'].value_counts().values\n",
    "sns.barplot([0,1],x)\n",
    "plt.title('Target')"
   ]
  },
  {
   "cell_type": "markdown",
   "metadata": {},
   "source": [
    "Как видно класс очень несбалансирован. Придется использовать андер- или оверсемплинг. Для начала склеим датафреймы и создадим выборки. "
   ]
  },
  {
   "cell_type": "code",
   "execution_count": 7,
   "metadata": {},
   "outputs": [
    {
     "name": "stdout",
     "output_type": "stream",
     "text": [
      "(590540, 435)\n",
      "(506691, 434)\n"
     ]
    }
   ],
   "source": [
    "train = train_transaction.merge(train_identity, how='left', left_index=True, right_index=True)\n",
    "test = test_transaction.merge(test_identity, how='left', left_index=True, right_index=True)\n",
    "print(train.shape)\n",
    "print(test.shape)\n",
    "y_train = train['isFraud'].copy()"
   ]
  },
  {
   "cell_type": "code",
   "execution_count": 8,
   "metadata": {},
   "outputs": [],
   "source": [
    "# удаляем target, заполняем NaN\n",
    "X_train = train.drop('isFraud', axis=1)\n",
    "X_test = test.copy()\n",
    "X_train = X_train.fillna(-999)\n",
    "X_test = X_test.fillna(-999)"
   ]
  },
  {
   "cell_type": "markdown",
   "metadata": {},
   "source": [
    "Преобразуем данны из столбца со временем в часы суток. "
   ]
  },
  {
   "cell_type": "code",
   "execution_count": 9,
   "metadata": {},
   "outputs": [],
   "source": [
    "def make_hour_feature(df, tname='TransactionDT'):\n",
    "    hours = df[tname] / (3600)        \n",
    "    encoded_hours = np.floor(hours) % 24\n",
    "    return encoded_hours"
   ]
  },
  {
   "cell_type": "code",
   "execution_count": 10,
   "metadata": {},
   "outputs": [],
   "source": [
    "X_train['hours'] = make_hour_feature(X_train)"
   ]
  },
  {
   "cell_type": "code",
   "execution_count": 11,
   "metadata": {},
   "outputs": [],
   "source": [
    "X_test['hours'] = make_hour_feature(X_test)"
   ]
  },
  {
   "cell_type": "code",
   "execution_count": 12,
   "metadata": {},
   "outputs": [],
   "source": [
    "for x in X_test['hours']:\n",
    "        if x>4.0 and x<11.0:\n",
    "            X_test['Fraud_hours'] = 100\n",
    "        else:\n",
    "            X_test['Fraud_hours'] = -100"
   ]
  },
  {
   "cell_type": "code",
   "execution_count": 13,
   "metadata": {},
   "outputs": [],
   "source": [
    "for x in X_train['hours']:\n",
    "        if x>4.0 and x<11.0:\n",
    "            X_train['Fraud_hours'] = 100\n",
    "        else:\n",
    "            X_train['Fraud_hours'] = -100"
   ]
  },
  {
   "cell_type": "code",
   "execution_count": 14,
   "metadata": {},
   "outputs": [
    {
     "data": {
      "text/plain": [
       "0        -100\n",
       "1        -100\n",
       "2        -100\n",
       "3        -100\n",
       "4        -100\n",
       "5        -100\n",
       "6        -100\n",
       "7        -100\n",
       "8        -100\n",
       "9        -100\n",
       "10       -100\n",
       "11       -100\n",
       "12       -100\n",
       "13       -100\n",
       "14       -100\n",
       "15       -100\n",
       "16       -100\n",
       "17       -100\n",
       "18       -100\n",
       "19       -100\n",
       "20       -100\n",
       "21       -100\n",
       "22       -100\n",
       "23       -100\n",
       "24       -100\n",
       "25       -100\n",
       "26       -100\n",
       "27       -100\n",
       "28       -100\n",
       "29       -100\n",
       "         ... \n",
       "590510   -100\n",
       "590511   -100\n",
       "590512   -100\n",
       "590513   -100\n",
       "590514   -100\n",
       "590515   -100\n",
       "590516   -100\n",
       "590517   -100\n",
       "590518   -100\n",
       "590519   -100\n",
       "590520   -100\n",
       "590521   -100\n",
       "590522   -100\n",
       "590523   -100\n",
       "590524   -100\n",
       "590525   -100\n",
       "590526   -100\n",
       "590527   -100\n",
       "590528   -100\n",
       "590529   -100\n",
       "590530   -100\n",
       "590531   -100\n",
       "590532   -100\n",
       "590533   -100\n",
       "590534   -100\n",
       "590535   -100\n",
       "590536   -100\n",
       "590537   -100\n",
       "590538   -100\n",
       "590539   -100\n",
       "Name: Fraud_hours, Length: 590540, dtype: int64"
      ]
     },
     "execution_count": 14,
     "metadata": {},
     "output_type": "execute_result"
    }
   ],
   "source": [
    "X_train['Fraud_hours']"
   ]
  },
  {
   "cell_type": "code",
   "execution_count": 15,
   "metadata": {},
   "outputs": [],
   "source": [
    "del train, test, train_transaction, train_identity, test_transaction, test_identity"
   ]
  },
  {
   "cell_type": "markdown",
   "metadata": {},
   "source": [
    "Выделим категориальные признаки и применим label encoding."
   ]
  },
  {
   "cell_type": "code",
   "execution_count": 16,
   "metadata": {},
   "outputs": [],
   "source": [
    "\n",
    "for f in X_train.columns:\n",
    "    if X_train[f].dtype=='object' or X_test[f].dtype=='object': \n",
    "        lbl = preprocessing.LabelEncoder()\n",
    "        lbl.fit(list(X_train[f].values) + list(X_test[f].values))\n",
    "        X_train[f] = lbl.transform(list(X_train[f].values))\n",
    "        X_test[f] = lbl.transform(list(X_test[f].values))   \n"
   ]
  },
  {
   "cell_type": "markdown",
   "metadata": {},
   "source": [
    "ДФ занимает слишком много памяти, необходимо преобразование. "
   ]
  },
  {
   "cell_type": "code",
   "execution_count": 17,
   "metadata": {},
   "outputs": [
    {
     "name": "stdout",
     "output_type": "stream",
     "text": [
      "CPU times: user 6 µs, sys: 2 µs, total: 8 µs\n",
      "Wall time: 30 µs\n"
     ]
    }
   ],
   "source": [
    "%%time\n",
    "def reduce_mem_usage2(df):\n",
    "    \"\"\" iterate through all the columns of a dataframe and modify the data type\n",
    "        to reduce memory usage.        \n",
    "    \"\"\"\n",
    "    start_mem = df.memory_usage().sum() / 1024**2\n",
    "    print('Memory usage of dataframe is {:.2f} MB'.format(start_mem))\n",
    "    \n",
    "    for col in df.columns:\n",
    "        col_type = df[col].dtype\n",
    "        \n",
    "        if col_type != object:\n",
    "            c_min = df[col].min()\n",
    "            c_max = df[col].max()\n",
    "            if str(col_type)[:3] == 'int':\n",
    "                if c_min > np.iinfo(np.int8).min and c_max < np.iinfo(np.int8).max:\n",
    "                    df[col] = df[col].astype(np.int8)\n",
    "                elif c_min > np.iinfo(np.int16).min and c_max < np.iinfo(np.int16).max:\n",
    "                    df[col] = df[col].astype(np.int16)\n",
    "                elif c_min > np.iinfo(np.int32).min and c_max < np.iinfo(np.int32).max:\n",
    "                    df[col] = df[col].astype(np.int32)\n",
    "                elif c_min > np.iinfo(np.int64).min and c_max < np.iinfo(np.int64).max:\n",
    "                    df[col] = df[col].astype(np.int64)  \n",
    "            else:\n",
    "                if c_min > np.finfo(np.float16).min and c_max < np.finfo(np.float16).max:\n",
    "                    df[col] = df[col].astype(np.float16)\n",
    "                elif c_min > np.finfo(np.float32).min and c_max < np.finfo(np.float32).max:\n",
    "                    df[col] = df[col].astype(np.float32)\n",
    "                else:\n",
    "                    df[col] = df[col].astype(np.float64)\n",
    "        else:\n",
    "            df[col] = df[col].astype('category')\n",
    "\n",
    "    end_mem = df.memory_usage().sum() / 1024**2\n",
    "    print('Memory usage after optimization is: {:.2f} MB'.format(end_mem))\n",
    "    print('Decreased by {:.1f}%'.format(100 * (start_mem - end_mem) / start_mem))\n",
    "    \n",
    "    return df"
   ]
  },
  {
   "cell_type": "code",
   "execution_count": 18,
   "metadata": {},
   "outputs": [
    {
     "name": "stdout",
     "output_type": "stream",
     "text": [
      "Memory usage of dataframe is 1964.38 MB\n",
      "Memory usage after optimization is: 528.83 MB\n",
      "Decreased by 73.1%\n",
      "Memory usage of dataframe is 1685.47 MB\n",
      "Memory usage after optimization is: 461.47 MB\n",
      "Decreased by 72.6%\n",
      "CPU times: user 5min 14s, sys: 4min 59s, total: 10min 13s\n",
      "Wall time: 5min 16s\n"
     ]
    }
   ],
   "source": [
    "%%time\n",
    "X_train = reduce_mem_usage2(X_train)\n",
    "X_test = reduce_mem_usage2(X_test)"
   ]
  },
  {
   "cell_type": "markdown",
   "metadata": {},
   "source": [
    "Следующие два блока результата не принесли, но пусть будут тут, потому что я над ними страдал. "
   ]
  },
  {
   "cell_type": "code",
   "execution_count": null,
   "metadata": {},
   "outputs": [],
   "source": [
    "#Scale_pos_weight\n",
    "dtrain = xgb.DMatrix(X_train, label=y_train)\n",
    "dtest = xgb.DMatrix(X_test)\n",
    "train_labels = dtrain.get_label()\n",
    "ratio= float(np.sum(train_labels == 0)) / np.sum(train_labels == 1)"
   ]
  },
  {
   "cell_type": "code",
   "execution_count": 19,
   "metadata": {},
   "outputs": [],
   "source": [
    "X = pd.concat([X_train,y_train],axis=1)\n",
    "not_fraud = X[X.isFraud==0]\n",
    "fraud = X[X.isFraud==1]\n"
   ]
  },
  {
   "cell_type": "markdown",
   "metadata": {},
   "source": [
    "Андерсемплинг работает лучше всего. "
   ]
  },
  {
   "cell_type": "code",
   "execution_count": 20,
   "metadata": {},
   "outputs": [
    {
     "data": {
      "text/plain": [
       "1    20663\n",
       "0    20663\n",
       "Name: isFraud, dtype: int64"
      ]
     },
     "execution_count": 20,
     "metadata": {},
     "output_type": "execute_result"
    }
   ],
   "source": [
    "downsampled_not_fraud = resample(not_fraud, replace = False, # без замены,\n",
    "                       n_samples = len(fraud), # кол-во не фрода\n",
    "                        random_state = 27) \n",
    "\n",
    "# складываем не фроды и фроды\n",
    "downsampled = pd.concat([downsampled_not_fraud, fraud])\n",
    "\n",
    "# проверяем результат\n",
    "downsampled.isFraud.value_counts()"
   ]
  },
  {
   "cell_type": "code",
   "execution_count": 21,
   "metadata": {},
   "outputs": [
    {
     "data": {
      "text/plain": [
       "Text(0,0.5,'количество')"
      ]
     },
     "execution_count": 21,
     "metadata": {},
     "output_type": "execute_result"
    },
    {
     "data": {
      "image/png": "[encoded data removed]",
      "text/plain": [
       "<Figure size 432x288 with 1 Axes>"
      ]
     },
     "metadata": {},
     "output_type": "display_data"
    }
   ],
   "source": [
    "y=downsampled.isFraud.value_counts()\n",
    "sns.barplot(y=y,x=[0,1])\n",
    "plt.title('класс')\n",
    "plt.ylabel('количество')"
   ]
  },
  {
   "cell_type": "code",
   "execution_count": 22,
   "metadata": {},
   "outputs": [],
   "source": [
    "# удаляем таргет\n",
    "X_train = downsampled.drop('isFraud', axis=1)"
   ]
  },
  {
   "cell_type": "markdown",
   "metadata": {},
   "source": [
    "Провели андерсемплинг, чтобы не работать с огромным массивом данных. \n",
    "Теперь необходимо преобразовать категориальные признаки. Для этого будем использовать label encoding, так как данных слишком много. "
   ]
  },
  {
   "cell_type": "code",
   "execution_count": 23,
   "metadata": {},
   "outputs": [],
   "source": [
    "y_train = downsampled.isFraud"
   ]
  },
  {
   "cell_type": "code",
   "execution_count": 30,
   "metadata": {},
   "outputs": [],
   "source": [
    "clf = xgb.XGBClassifier(n_estimators=400, \n",
    "                        n_jobs=4,\n",
    "                        max_depth=11,\n",
    "                        learning_rate=0.015, num_leaves = 220,\n",
    "                        subsample=0.7,\n",
    "                        colsample_bytree=0.75,\n",
    "                        missing=-999, reg_lambda = 0.3)"
   ]
  },
  {
   "cell_type": "code",
   "execution_count": 50,
   "metadata": {},
   "outputs": [],
   "source": [
    "clf = xgb.XGBClassifier(n_estimators=400, \n",
    "                        n_jobs=4,\n",
    "                        max_depth=11,\n",
    "                        learning_rate=0.25, num_leaves = 220,\n",
    "                        subsample=1.0,\n",
    "                        colsample_bytree=1.0,\n",
    "                        missing=-999)"
   ]
  },
  {
   "cell_type": "code",
   "execution_count": 51,
   "metadata": {},
   "outputs": [
    {
     "data": {
      "text/plain": [
       "XGBClassifier(base_score=0.5, booster='gbtree', colsample_bylevel=1,\n",
       "       colsample_bynode=1, colsample_bytree=1.0, gamma=0,\n",
       "       learning_rate=0.25, max_delta_step=0, max_depth=11,\n",
       "       min_child_weight=1, missing=-999, n_estimators=400, n_jobs=4,\n",
       "       nthread=None, num_leaves=220, objective='binary:logistic',\n",
       "       random_state=0, reg_alpha=0, reg_lambda=1, scale_pos_weight=1,\n",
       "       seed=None, silent=None, subsample=1.0, verbosity=1)"
      ]
     },
     "execution_count": 51,
     "metadata": {},
     "output_type": "execute_result"
    }
   ],
   "source": [
    "clf.fit(X_train, y_train)"
   ]
  },
  {
   "cell_type": "code",
   "execution_count": 52,
   "metadata": {},
   "outputs": [],
   "source": [
    "sample_submission = pd.read_csv('sample_submission.csv', index_col='TransactionID')\n",
    "sample_submission['isFraud'] = clf.predict_proba(X_test)[:,1]\n",
    "sample_submission.to_csv('grid.csv')"
   ]
  },
  {
   "cell_type": "markdown",
   "metadata": {},
   "source": [
    "Все что ниже это черновики экспериментов над параметрами. "
   ]
  },
  {
   "cell_type": "code",
   "execution_count": 47,
   "metadata": {},
   "outputs": [
    {
     "name": "stdout",
     "output_type": "stream",
     "text": [
      "Fitting 4 folds for each of 48 candidates, totalling 192 fits\n",
      "[CV] colsample_bytree=0.5, learning_rate=0.05, max_depth=11, min_child_weight=5, missing=-999, n_estimators=410, nthread=5, objective=binary:logistic, seed=1337, silent=0, subsample=0.5 \n",
      "[CV] colsample_bytree=0.5, learning_rate=0.05, max_depth=11, min_child_weight=5, missing=-999, n_estimators=410, nthread=5, objective=binary:logistic, seed=1337, silent=0, subsample=0.5 \n",
      "[CV] colsample_bytree=0.5, learning_rate=0.05, max_depth=11, min_child_weight=5, missing=-999, n_estimators=410, nthread=5, objective=binary:logistic, seed=1337, silent=0, subsample=0.5 \n",
      "[CV] colsample_bytree=0.5, learning_rate=0.05, max_depth=11, min_child_weight=5, missing=-999, n_estimators=410, nthread=5, objective=binary:logistic, seed=1337, silent=0, subsample=0.5 \n",
      "[CV] colsample_bytree=0.5, learning_rate=0.05, max_depth=11, min_child_weight=5, missing=-999, n_estimators=410, nthread=5, objective=binary:logistic, seed=1337, silent=0, subsample=1.0 \n",
      "[CV]  colsample_bytree=0.5, learning_rate=0.05, max_depth=11, min_child_weight=5, missing=-999, n_estimators=410, nthread=5, objective=binary:logistic, seed=1337, silent=0, subsample=0.5 -12.4min\n",
      "[CV] colsample_bytree=0.5, learning_rate=0.05, max_depth=11, min_child_weight=5, missing=-999, n_estimators=410, nthread=5, objective=binary:logistic, seed=1337, silent=0, subsample=1.0 \n",
      "[CV]  colsample_bytree=0.5, learning_rate=0.05, max_depth=11, min_child_weight=5, missing=-999, n_estimators=410, nthread=5, objective=binary:logistic, seed=1337, silent=0, subsample=0.5 -12.4min\n",
      "[CV] colsample_bytree=0.5, learning_rate=0.05, max_depth=11, min_child_weight=5, missing=-999, n_estimators=410, nthread=5, objective=binary:logistic, seed=1337, silent=0, subsample=1.0 \n",
      "[CV]  colsample_bytree=0.5, learning_rate=0.05, max_depth=11, min_child_weight=5, missing=-999, n_estimators=410, nthread=5, objective=binary:logistic, seed=1337, silent=0, subsample=0.5 -12.4min\n",
      "[CV] colsample_bytree=0.5, learning_rate=0.05, max_depth=11, min_child_weight=5, missing=-999, n_estimators=410, nthread=5, objective=binary:logistic, seed=1337, silent=0, subsample=1.0 \n",
      "[CV]  colsample_bytree=0.5, learning_rate=0.05, max_depth=11, min_child_weight=5, missing=-999, n_estimators=410, nthread=5, objective=binary:logistic, seed=1337, silent=0, subsample=0.5 -12.4min\n",
      "[CV] colsample_bytree=0.5, learning_rate=0.05, max_depth=11, min_child_weight=5, missing=-999, n_estimators=410, nthread=10, objective=binary:logistic, seed=1337, silent=0, subsample=0.5 \n",
      "[CV]  colsample_bytree=0.5, learning_rate=0.05, max_depth=11, min_child_weight=5, missing=-999, n_estimators=410, nthread=5, objective=binary:logistic, seed=1337, silent=0, subsample=1.0 -13.0min\n",
      "[CV] colsample_bytree=0.5, learning_rate=0.05, max_depth=11, min_child_weight=5, missing=-999, n_estimators=410, nthread=10, objective=binary:logistic, seed=1337, silent=0, subsample=0.5 \n",
      "[CV]  colsample_bytree=0.5, learning_rate=0.05, max_depth=11, min_child_weight=5, missing=-999, n_estimators=410, nthread=5, objective=binary:logistic, seed=1337, silent=0, subsample=1.0 -14.3min\n",
      "[CV] colsample_bytree=0.5, learning_rate=0.05, max_depth=11, min_child_weight=5, missing=-999, n_estimators=410, nthread=10, objective=binary:logistic, seed=1337, silent=0, subsample=0.5 \n",
      "[CV]  colsample_bytree=0.5, learning_rate=0.05, max_depth=11, min_child_weight=5, missing=-999, n_estimators=410, nthread=5, objective=binary:logistic, seed=1337, silent=0, subsample=1.0 -14.4min\n",
      "[CV] colsample_bytree=0.5, learning_rate=0.05, max_depth=11, min_child_weight=5, missing=-999, n_estimators=410, nthread=10, objective=binary:logistic, seed=1337, silent=0, subsample=0.5 \n",
      "[CV]  colsample_bytree=0.5, learning_rate=0.05, max_depth=11, min_child_weight=5, missing=-999, n_estimators=410, nthread=5, objective=binary:logistic, seed=1337, silent=0, subsample=1.0 -14.5min\n",
      "[CV] colsample_bytree=0.5, learning_rate=0.05, max_depth=11, min_child_weight=5, missing=-999, n_estimators=410, nthread=10, objective=binary:logistic, seed=1337, silent=0, subsample=1.0 \n",
      "[CV]  colsample_bytree=0.5, learning_rate=0.05, max_depth=11, min_child_weight=5, missing=-999, n_estimators=410, nthread=10, objective=binary:logistic, seed=1337, silent=0, subsample=0.5 -14.8min\n",
      "[CV] colsample_bytree=0.5, learning_rate=0.05, max_depth=11, min_child_weight=5, missing=-999, n_estimators=410, nthread=10, objective=binary:logistic, seed=1337, silent=0, subsample=1.0 \n",
      "[CV]  colsample_bytree=0.5, learning_rate=0.05, max_depth=11, min_child_weight=5, missing=-999, n_estimators=410, nthread=10, objective=binary:logistic, seed=1337, silent=0, subsample=0.5 -14.7min\n",
      "[CV] colsample_bytree=0.5, learning_rate=0.05, max_depth=11, min_child_weight=5, missing=-999, n_estimators=410, nthread=10, objective=binary:logistic, seed=1337, silent=0, subsample=1.0 \n",
      "[CV]  colsample_bytree=0.5, learning_rate=0.05, max_depth=11, min_child_weight=5, missing=-999, n_estimators=410, nthread=10, objective=binary:logistic, seed=1337, silent=0, subsample=0.5 -10.8min\n",
      "[CV] colsample_bytree=0.5, learning_rate=0.05, max_depth=11, min_child_weight=5, missing=-999, n_estimators=410, nthread=10, objective=binary:logistic, seed=1337, silent=0, subsample=1.0 \n",
      "[CV]  colsample_bytree=0.5, learning_rate=0.05, max_depth=11, min_child_weight=5, missing=-999, n_estimators=410, nthread=10, objective=binary:logistic, seed=1337, silent=0, subsample=0.5 -10.9min\n",
      "[CV] colsample_bytree=0.5, learning_rate=0.05, max_depth=11, min_child_weight=11, missing=-999, n_estimators=410, nthread=5, objective=binary:logistic, seed=1337, silent=0, subsample=0.5 \n",
      "[CV]  colsample_bytree=0.5, learning_rate=0.05, max_depth=11, min_child_weight=5, missing=-999, n_estimators=410, nthread=10, objective=binary:logistic, seed=1337, silent=0, subsample=1.0 -11.4min\n",
      "[CV] colsample_bytree=0.5, learning_rate=0.05, max_depth=11, min_child_weight=11, missing=-999, n_estimators=410, nthread=5, objective=binary:logistic, seed=1337, silent=0, subsample=0.5 \n",
      "[CV]  colsample_bytree=0.5, learning_rate=0.05, max_depth=11, min_child_weight=5, missing=-999, n_estimators=410, nthread=10, objective=binary:logistic, seed=1337, silent=0, subsample=1.0 -11.3min\n",
      "[CV] colsample_bytree=0.5, learning_rate=0.05, max_depth=11, min_child_weight=11, missing=-999, n_estimators=410, nthread=5, objective=binary:logistic, seed=1337, silent=0, subsample=0.5 \n",
      "[CV]  colsample_bytree=0.5, learning_rate=0.05, max_depth=11, min_child_weight=5, missing=-999, n_estimators=410, nthread=10, objective=binary:logistic, seed=1337, silent=0, subsample=1.0 -11.5min\n",
      "[CV] colsample_bytree=0.5, learning_rate=0.05, max_depth=11, min_child_weight=11, missing=-999, n_estimators=410, nthread=5, objective=binary:logistic, seed=1337, silent=0, subsample=0.5 \n",
      "[CV]  colsample_bytree=0.5, learning_rate=0.05, max_depth=11, min_child_weight=11, missing=-999, n_estimators=410, nthread=5, objective=binary:logistic, seed=1337, silent=0, subsample=0.5 - 9.7min\n",
      "[CV] colsample_bytree=0.5, learning_rate=0.05, max_depth=11, min_child_weight=11, missing=-999, n_estimators=410, nthread=5, objective=binary:logistic, seed=1337, silent=0, subsample=1.0 \n",
      "[CV]  colsample_bytree=0.5, learning_rate=0.05, max_depth=11, min_child_weight=11, missing=-999, n_estimators=410, nthread=5, objective=binary:logistic, seed=1337, silent=0, subsample=0.5 - 9.7min\n",
      "[CV] colsample_bytree=0.5, learning_rate=0.05, max_depth=11, min_child_weight=11, missing=-999, n_estimators=410, nthread=5, objective=binary:logistic, seed=1337, silent=0, subsample=1.0 \n",
      "[CV]  colsample_bytree=0.5, learning_rate=0.05, max_depth=11, min_child_weight=11, missing=-999, n_estimators=410, nthread=5, objective=binary:logistic, seed=1337, silent=0, subsample=0.5 - 9.7min\n",
      "[CV] colsample_bytree=0.5, learning_rate=0.05, max_depth=11, min_child_weight=11, missing=-999, n_estimators=410, nthread=5, objective=binary:logistic, seed=1337, silent=0, subsample=1.0 \n",
      "[CV]  colsample_bytree=0.5, learning_rate=0.05, max_depth=11, min_child_weight=11, missing=-999, n_estimators=410, nthread=5, objective=binary:logistic, seed=1337, silent=0, subsample=0.5 - 9.7min\n",
      "[CV] colsample_bytree=0.5, learning_rate=0.05, max_depth=11, min_child_weight=11, missing=-999, n_estimators=410, nthread=5, objective=binary:logistic, seed=1337, silent=0, subsample=1.0 \n"
     ]
    },
    {
     "name": "stdout",
     "output_type": "stream",
     "text": [
      "[CV]  colsample_bytree=0.5, learning_rate=0.05, max_depth=11, min_child_weight=5, missing=-999, n_estimators=410, nthread=10, objective=binary:logistic, seed=1337, silent=0, subsample=1.0 -13.9min\n",
      "[CV] colsample_bytree=0.5, learning_rate=0.05, max_depth=11, min_child_weight=11, missing=-999, n_estimators=410, nthread=10, objective=binary:logistic, seed=1337, silent=0, subsample=0.5 \n",
      "[CV]  colsample_bytree=0.5, learning_rate=0.05, max_depth=11, min_child_weight=11, missing=-999, n_estimators=410, nthread=5, objective=binary:logistic, seed=1337, silent=0, subsample=1.0 -10.6min\n",
      "[CV] colsample_bytree=0.5, learning_rate=0.05, max_depth=11, min_child_weight=11, missing=-999, n_estimators=410, nthread=10, objective=binary:logistic, seed=1337, silent=0, subsample=0.5 \n",
      "[CV]  colsample_bytree=0.5, learning_rate=0.05, max_depth=11, min_child_weight=11, missing=-999, n_estimators=410, nthread=5, objective=binary:logistic, seed=1337, silent=0, subsample=1.0 -10.6min\n",
      "[CV] colsample_bytree=0.5, learning_rate=0.05, max_depth=11, min_child_weight=11, missing=-999, n_estimators=410, nthread=10, objective=binary:logistic, seed=1337, silent=0, subsample=0.5 \n",
      "[CV]  colsample_bytree=0.5, learning_rate=0.05, max_depth=11, min_child_weight=11, missing=-999, n_estimators=410, nthread=5, objective=binary:logistic, seed=1337, silent=0, subsample=1.0 -10.6min\n",
      "[CV] colsample_bytree=0.5, learning_rate=0.05, max_depth=11, min_child_weight=11, missing=-999, n_estimators=410, nthread=10, objective=binary:logistic, seed=1337, silent=0, subsample=0.5 \n",
      "[CV]  colsample_bytree=0.5, learning_rate=0.05, max_depth=11, min_child_weight=11, missing=-999, n_estimators=410, nthread=5, objective=binary:logistic, seed=1337, silent=0, subsample=1.0 -10.6min\n",
      "[CV] colsample_bytree=0.5, learning_rate=0.05, max_depth=11, min_child_weight=11, missing=-999, n_estimators=410, nthread=10, objective=binary:logistic, seed=1337, silent=0, subsample=1.0 \n",
      "[CV]  colsample_bytree=0.5, learning_rate=0.05, max_depth=11, min_child_weight=11, missing=-999, n_estimators=410, nthread=10, objective=binary:logistic, seed=1337, silent=0, subsample=0.5 -11.5min\n",
      "[CV] colsample_bytree=0.5, learning_rate=0.05, max_depth=11, min_child_weight=11, missing=-999, n_estimators=410, nthread=10, objective=binary:logistic, seed=1337, silent=0, subsample=1.0 \n",
      "[CV]  colsample_bytree=0.5, learning_rate=0.05, max_depth=11, min_child_weight=11, missing=-999, n_estimators=410, nthread=10, objective=binary:logistic, seed=1337, silent=0, subsample=0.5 -10.5min\n",
      "[CV] colsample_bytree=0.5, learning_rate=0.05, max_depth=11, min_child_weight=11, missing=-999, n_estimators=410, nthread=10, objective=binary:logistic, seed=1337, silent=0, subsample=1.0 \n",
      "[CV]  colsample_bytree=0.5, learning_rate=0.05, max_depth=11, min_child_weight=11, missing=-999, n_estimators=410, nthread=10, objective=binary:logistic, seed=1337, silent=0, subsample=0.5 -10.4min\n",
      "[CV] colsample_bytree=0.5, learning_rate=0.05, max_depth=11, min_child_weight=11, missing=-999, n_estimators=410, nthread=10, objective=binary:logistic, seed=1337, silent=0, subsample=1.0 \n",
      "[CV]  colsample_bytree=0.5, learning_rate=0.05, max_depth=11, min_child_weight=11, missing=-999, n_estimators=410, nthread=10, objective=binary:logistic, seed=1337, silent=0, subsample=0.5 -10.3min\n",
      "[CV] colsample_bytree=0.5, learning_rate=0.25, max_depth=11, min_child_weight=5, missing=-999, n_estimators=410, nthread=5, objective=binary:logistic, seed=1337, silent=0, subsample=0.5 \n",
      "[CV]  colsample_bytree=0.5, learning_rate=0.05, max_depth=11, min_child_weight=11, missing=-999, n_estimators=410, nthread=10, objective=binary:logistic, seed=1337, silent=0, subsample=1.0 -11.0min\n",
      "[CV] colsample_bytree=0.5, learning_rate=0.25, max_depth=11, min_child_weight=5, missing=-999, n_estimators=410, nthread=5, objective=binary:logistic, seed=1337, silent=0, subsample=0.5 \n",
      "[CV]  colsample_bytree=0.5, learning_rate=0.05, max_depth=11, min_child_weight=11, missing=-999, n_estimators=410, nthread=10, objective=binary:logistic, seed=1337, silent=0, subsample=1.0 -11.1min\n",
      "[CV] colsample_bytree=0.5, learning_rate=0.25, max_depth=11, min_child_weight=5, missing=-999, n_estimators=410, nthread=5, objective=binary:logistic, seed=1337, silent=0, subsample=0.5 \n",
      "[CV]  colsample_bytree=0.5, learning_rate=0.25, max_depth=11, min_child_weight=5, missing=-999, n_estimators=410, nthread=5, objective=binary:logistic, seed=1337, silent=0, subsample=0.5 -10.2min\n",
      "[CV] colsample_bytree=0.5, learning_rate=0.25, max_depth=11, min_child_weight=5, missing=-999, n_estimators=410, nthread=5, objective=binary:logistic, seed=1337, silent=0, subsample=0.5 \n"
     ]
    },
    {
     "name": "stderr",
     "output_type": "stream",
     "text": [
      "[Parallel(n_jobs=5)]: Done  31 tasks      | elapsed: 79.3min\n"
     ]
    },
    {
     "name": "stdout",
     "output_type": "stream",
     "text": [
      "[CV]  colsample_bytree=0.5, learning_rate=0.05, max_depth=11, min_child_weight=11, missing=-999, n_estimators=410, nthread=10, objective=binary:logistic, seed=1337, silent=0, subsample=1.0 -11.5min\n",
      "[CV] colsample_bytree=0.5, learning_rate=0.25, max_depth=11, min_child_weight=5, missing=-999, n_estimators=410, nthread=5, objective=binary:logistic, seed=1337, silent=0, subsample=1.0 \n",
      "[CV]  colsample_bytree=0.5, learning_rate=0.05, max_depth=11, min_child_weight=11, missing=-999, n_estimators=410, nthread=10, objective=binary:logistic, seed=1337, silent=0, subsample=1.0 -11.6min\n",
      "[CV] colsample_bytree=0.5, learning_rate=0.25, max_depth=11, min_child_weight=5, missing=-999, n_estimators=410, nthread=5, objective=binary:logistic, seed=1337, silent=0, subsample=1.0 \n",
      "[CV]  colsample_bytree=0.5, learning_rate=0.25, max_depth=11, min_child_weight=5, missing=-999, n_estimators=410, nthread=5, objective=binary:logistic, seed=1337, silent=0, subsample=0.5 -10.3min\n",
      "[CV] colsample_bytree=0.5, learning_rate=0.25, max_depth=11, min_child_weight=5, missing=-999, n_estimators=410, nthread=5, objective=binary:logistic, seed=1337, silent=0, subsample=1.0 \n",
      "[CV]  colsample_bytree=0.5, learning_rate=0.25, max_depth=11, min_child_weight=5, missing=-999, n_estimators=410, nthread=5, objective=binary:logistic, seed=1337, silent=0, subsample=0.5 -10.4min\n",
      "[CV] colsample_bytree=0.5, learning_rate=0.25, max_depth=11, min_child_weight=5, missing=-999, n_estimators=410, nthread=5, objective=binary:logistic, seed=1337, silent=0, subsample=1.0 \n",
      "[CV]  colsample_bytree=0.5, learning_rate=0.25, max_depth=11, min_child_weight=5, missing=-999, n_estimators=410, nthread=5, objective=binary:logistic, seed=1337, silent=0, subsample=0.5 -10.5min\n",
      "[CV] colsample_bytree=0.5, learning_rate=0.25, max_depth=11, min_child_weight=5, missing=-999, n_estimators=410, nthread=10, objective=binary:logistic, seed=1337, silent=0, subsample=0.5 \n",
      "[CV]  colsample_bytree=0.5, learning_rate=0.25, max_depth=11, min_child_weight=5, missing=-999, n_estimators=410, nthread=5, objective=binary:logistic, seed=1337, silent=0, subsample=1.0 -10.7min\n",
      "[CV] colsample_bytree=0.5, learning_rate=0.25, max_depth=11, min_child_weight=5, missing=-999, n_estimators=410, nthread=10, objective=binary:logistic, seed=1337, silent=0, subsample=0.5 \n",
      "[CV]  colsample_bytree=0.5, learning_rate=0.25, max_depth=11, min_child_weight=5, missing=-999, n_estimators=410, nthread=5, objective=binary:logistic, seed=1337, silent=0, subsample=1.0 -10.7min\n",
      "[CV] colsample_bytree=0.5, learning_rate=0.25, max_depth=11, min_child_weight=5, missing=-999, n_estimators=410, nthread=10, objective=binary:logistic, seed=1337, silent=0, subsample=0.5 \n",
      "[CV]  colsample_bytree=0.5, learning_rate=0.25, max_depth=11, min_child_weight=5, missing=-999, n_estimators=410, nthread=5, objective=binary:logistic, seed=1337, silent=0, subsample=1.0 -10.8min\n",
      "[CV] colsample_bytree=0.5, learning_rate=0.25, max_depth=11, min_child_weight=5, missing=-999, n_estimators=410, nthread=10, objective=binary:logistic, seed=1337, silent=0, subsample=0.5 \n",
      "[CV]  colsample_bytree=0.5, learning_rate=0.25, max_depth=11, min_child_weight=5, missing=-999, n_estimators=410, nthread=5, objective=binary:logistic, seed=1337, silent=0, subsample=1.0 -10.3min\n",
      "[CV] colsample_bytree=0.5, learning_rate=0.25, max_depth=11, min_child_weight=5, missing=-999, n_estimators=410, nthread=10, objective=binary:logistic, seed=1337, silent=0, subsample=1.0 \n",
      "[CV]  colsample_bytree=0.5, learning_rate=0.25, max_depth=11, min_child_weight=5, missing=-999, n_estimators=410, nthread=10, objective=binary:logistic, seed=1337, silent=0, subsample=0.5 -10.9min\n",
      "[CV] colsample_bytree=0.5, learning_rate=0.25, max_depth=11, min_child_weight=5, missing=-999, n_estimators=410, nthread=10, objective=binary:logistic, seed=1337, silent=0, subsample=1.0 \n",
      "[CV]  colsample_bytree=0.5, learning_rate=0.25, max_depth=11, min_child_weight=5, missing=-999, n_estimators=410, nthread=10, objective=binary:logistic, seed=1337, silent=0, subsample=0.5 -10.6min\n",
      "[CV] colsample_bytree=0.5, learning_rate=0.25, max_depth=11, min_child_weight=5, missing=-999, n_estimators=410, nthread=10, objective=binary:logistic, seed=1337, silent=0, subsample=1.0 \n",
      "[CV]  colsample_bytree=0.5, learning_rate=0.25, max_depth=11, min_child_weight=5, missing=-999, n_estimators=410, nthread=10, objective=binary:logistic, seed=1337, silent=0, subsample=0.5 -10.5min\n",
      "[CV] colsample_bytree=0.5, learning_rate=0.25, max_depth=11, min_child_weight=5, missing=-999, n_estimators=410, nthread=10, objective=binary:logistic, seed=1337, silent=0, subsample=1.0 \n",
      "[CV]  colsample_bytree=0.5, learning_rate=0.25, max_depth=11, min_child_weight=5, missing=-999, n_estimators=410, nthread=10, objective=binary:logistic, seed=1337, silent=0, subsample=0.5 -10.5min\n",
      "[CV] colsample_bytree=0.5, learning_rate=0.25, max_depth=11, min_child_weight=11, missing=-999, n_estimators=410, nthread=5, objective=binary:logistic, seed=1337, silent=0, subsample=0.5 \n",
      "[CV]  colsample_bytree=0.5, learning_rate=0.25, max_depth=11, min_child_weight=5, missing=-999, n_estimators=410, nthread=10, objective=binary:logistic, seed=1337, silent=0, subsample=1.0 -10.5min\n",
      "[CV] colsample_bytree=0.5, learning_rate=0.25, max_depth=11, min_child_weight=11, missing=-999, n_estimators=410, nthread=5, objective=binary:logistic, seed=1337, silent=0, subsample=0.5 \n",
      "[CV]  colsample_bytree=0.5, learning_rate=0.25, max_depth=11, min_child_weight=5, missing=-999, n_estimators=410, nthread=10, objective=binary:logistic, seed=1337, silent=0, subsample=1.0 -11.2min\n",
      "[CV] colsample_bytree=0.5, learning_rate=0.25, max_depth=11, min_child_weight=11, missing=-999, n_estimators=410, nthread=5, objective=binary:logistic, seed=1337, silent=0, subsample=0.5 \n",
      "[CV]  colsample_bytree=0.5, learning_rate=0.25, max_depth=11, min_child_weight=11, missing=-999, n_estimators=410, nthread=5, objective=binary:logistic, seed=1337, silent=0, subsample=0.5 -10.0min\n",
      "[CV] colsample_bytree=0.5, learning_rate=0.25, max_depth=11, min_child_weight=11, missing=-999, n_estimators=410, nthread=5, objective=binary:logistic, seed=1337, silent=0, subsample=0.5 \n",
      "[CV]  colsample_bytree=0.5, learning_rate=0.25, max_depth=11, min_child_weight=5, missing=-999, n_estimators=410, nthread=10, objective=binary:logistic, seed=1337, silent=0, subsample=1.0 -11.3min\n",
      "[CV] colsample_bytree=0.5, learning_rate=0.25, max_depth=11, min_child_weight=11, missing=-999, n_estimators=410, nthread=5, objective=binary:logistic, seed=1337, silent=0, subsample=1.0 \n",
      "[CV]  colsample_bytree=0.5, learning_rate=0.25, max_depth=11, min_child_weight=5, missing=-999, n_estimators=410, nthread=10, objective=binary:logistic, seed=1337, silent=0, subsample=1.0 -11.3min\n",
      "[CV] colsample_bytree=0.5, learning_rate=0.25, max_depth=11, min_child_weight=11, missing=-999, n_estimators=410, nthread=5, objective=binary:logistic, seed=1337, silent=0, subsample=1.0 \n",
      "[CV]  colsample_bytree=0.5, learning_rate=0.25, max_depth=11, min_child_weight=11, missing=-999, n_estimators=410, nthread=5, objective=binary:logistic, seed=1337, silent=0, subsample=0.5 -10.1min\n",
      "[CV] colsample_bytree=0.5, learning_rate=0.25, max_depth=11, min_child_weight=11, missing=-999, n_estimators=410, nthread=5, objective=binary:logistic, seed=1337, silent=0, subsample=1.0 \n",
      "[CV]  colsample_bytree=0.5, learning_rate=0.25, max_depth=11, min_child_weight=11, missing=-999, n_estimators=410, nthread=5, objective=binary:logistic, seed=1337, silent=0, subsample=0.5 -10.1min\n",
      "[CV] colsample_bytree=0.5, learning_rate=0.25, max_depth=11, min_child_weight=11, missing=-999, n_estimators=410, nthread=5, objective=binary:logistic, seed=1337, silent=0, subsample=1.0 \n",
      "[CV]  colsample_bytree=0.5, learning_rate=0.25, max_depth=11, min_child_weight=11, missing=-999, n_estimators=410, nthread=5, objective=binary:logistic, seed=1337, silent=0, subsample=0.5 -10.2min\n",
      "[CV] colsample_bytree=0.5, learning_rate=0.25, max_depth=11, min_child_weight=11, missing=-999, n_estimators=410, nthread=10, objective=binary:logistic, seed=1337, silent=0, subsample=0.5 \n",
      "[CV]  colsample_bytree=0.5, learning_rate=0.25, max_depth=11, min_child_weight=11, missing=-999, n_estimators=410, nthread=5, objective=binary:logistic, seed=1337, silent=0, subsample=1.0 -10.6min\n"
     ]
    },
    {
     "name": "stdout",
     "output_type": "stream",
     "text": [
      "[CV] colsample_bytree=0.5, learning_rate=0.25, max_depth=11, min_child_weight=11, missing=-999, n_estimators=410, nthread=10, objective=binary:logistic, seed=1337, silent=0, subsample=0.5 \n",
      "[CV]  colsample_bytree=0.5, learning_rate=0.25, max_depth=11, min_child_weight=11, missing=-999, n_estimators=410, nthread=5, objective=binary:logistic, seed=1337, silent=0, subsample=1.0 -10.6min\n",
      "[CV] colsample_bytree=0.5, learning_rate=0.25, max_depth=11, min_child_weight=11, missing=-999, n_estimators=410, nthread=10, objective=binary:logistic, seed=1337, silent=0, subsample=0.5 \n",
      "[CV]  colsample_bytree=0.5, learning_rate=0.25, max_depth=11, min_child_weight=11, missing=-999, n_estimators=410, nthread=5, objective=binary:logistic, seed=1337, silent=0, subsample=1.0 -10.4min\n",
      "[CV] colsample_bytree=0.5, learning_rate=0.25, max_depth=11, min_child_weight=11, missing=-999, n_estimators=410, nthread=10, objective=binary:logistic, seed=1337, silent=0, subsample=0.5 \n",
      "[CV]  colsample_bytree=0.5, learning_rate=0.25, max_depth=11, min_child_weight=11, missing=-999, n_estimators=410, nthread=5, objective=binary:logistic, seed=1337, silent=0, subsample=1.0 -10.2min\n",
      "[CV] colsample_bytree=0.5, learning_rate=0.25, max_depth=11, min_child_weight=11, missing=-999, n_estimators=410, nthread=10, objective=binary:logistic, seed=1337, silent=0, subsample=1.0 \n",
      "[CV]  colsample_bytree=0.5, learning_rate=0.25, max_depth=11, min_child_weight=11, missing=-999, n_estimators=410, nthread=10, objective=binary:logistic, seed=1337, silent=0, subsample=0.5 -10.6min\n",
      "[CV] colsample_bytree=0.5, learning_rate=0.25, max_depth=11, min_child_weight=11, missing=-999, n_estimators=410, nthread=10, objective=binary:logistic, seed=1337, silent=0, subsample=1.0 \n",
      "[CV]  colsample_bytree=0.5, learning_rate=0.25, max_depth=11, min_child_weight=11, missing=-999, n_estimators=410, nthread=10, objective=binary:logistic, seed=1337, silent=0, subsample=0.5 -10.3min\n",
      "[CV] colsample_bytree=0.5, learning_rate=0.25, max_depth=11, min_child_weight=11, missing=-999, n_estimators=410, nthread=10, objective=binary:logistic, seed=1337, silent=0, subsample=1.0 \n",
      "[CV]  colsample_bytree=0.5, learning_rate=0.25, max_depth=11, min_child_weight=11, missing=-999, n_estimators=410, nthread=10, objective=binary:logistic, seed=1337, silent=0, subsample=0.5 -10.3min\n",
      "[CV] colsample_bytree=0.5, learning_rate=0.25, max_depth=11, min_child_weight=11, missing=-999, n_estimators=410, nthread=10, objective=binary:logistic, seed=1337, silent=0, subsample=1.0 \n",
      "[CV]  colsample_bytree=0.5, learning_rate=0.25, max_depth=11, min_child_weight=11, missing=-999, n_estimators=410, nthread=10, objective=binary:logistic, seed=1337, silent=0, subsample=0.5 -10.2min\n",
      "[CV] colsample_bytree=0.5, learning_rate=0.5, max_depth=11, min_child_weight=5, missing=-999, n_estimators=410, nthread=5, objective=binary:logistic, seed=1337, silent=0, subsample=0.5 \n",
      "[CV]  colsample_bytree=0.5, learning_rate=0.25, max_depth=11, min_child_weight=11, missing=-999, n_estimators=410, nthread=10, objective=binary:logistic, seed=1337, silent=0, subsample=1.0 -10.6min\n",
      "[CV] colsample_bytree=0.5, learning_rate=0.5, max_depth=11, min_child_weight=5, missing=-999, n_estimators=410, nthread=5, objective=binary:logistic, seed=1337, silent=0, subsample=0.5 \n",
      "[CV]  colsample_bytree=0.5, learning_rate=0.25, max_depth=11, min_child_weight=11, missing=-999, n_estimators=410, nthread=10, objective=binary:logistic, seed=1337, silent=0, subsample=1.0 -10.6min\n",
      "[CV] colsample_bytree=0.5, learning_rate=0.5, max_depth=11, min_child_weight=5, missing=-999, n_estimators=410, nthread=5, objective=binary:logistic, seed=1337, silent=0, subsample=0.5 \n",
      "[CV]  colsample_bytree=0.5, learning_rate=0.25, max_depth=11, min_child_weight=11, missing=-999, n_estimators=410, nthread=10, objective=binary:logistic, seed=1337, silent=0, subsample=1.0 -10.7min\n",
      "[CV] colsample_bytree=0.5, learning_rate=0.5, max_depth=11, min_child_weight=5, missing=-999, n_estimators=410, nthread=5, objective=binary:logistic, seed=1337, silent=0, subsample=0.5 \n",
      "[CV]  colsample_bytree=0.5, learning_rate=0.25, max_depth=11, min_child_weight=11, missing=-999, n_estimators=410, nthread=10, objective=binary:logistic, seed=1337, silent=0, subsample=1.0 -10.7min\n",
      "[CV] colsample_bytree=0.5, learning_rate=0.5, max_depth=11, min_child_weight=5, missing=-999, n_estimators=410, nthread=5, objective=binary:logistic, seed=1337, silent=0, subsample=1.0 \n",
      "[CV]  colsample_bytree=0.5, learning_rate=0.5, max_depth=11, min_child_weight=5, missing=-999, n_estimators=410, nthread=5, objective=binary:logistic, seed=1337, silent=0, subsample=0.5 -10.8min\n",
      "[CV] colsample_bytree=0.5, learning_rate=0.5, max_depth=11, min_child_weight=5, missing=-999, n_estimators=410, nthread=5, objective=binary:logistic, seed=1337, silent=0, subsample=1.0 \n",
      "[CV]  colsample_bytree=0.5, learning_rate=0.5, max_depth=11, min_child_weight=5, missing=-999, n_estimators=410, nthread=5, objective=binary:logistic, seed=1337, silent=0, subsample=0.5 -10.0min\n",
      "[CV] colsample_bytree=0.5, learning_rate=0.5, max_depth=11, min_child_weight=5, missing=-999, n_estimators=410, nthread=5, objective=binary:logistic, seed=1337, silent=0, subsample=1.0 \n",
      "[CV]  colsample_bytree=0.5, learning_rate=0.5, max_depth=11, min_child_weight=5, missing=-999, n_estimators=410, nthread=5, objective=binary:logistic, seed=1337, silent=0, subsample=0.5 - 9.9min\n",
      "[CV] colsample_bytree=0.5, learning_rate=0.5, max_depth=11, min_child_weight=5, missing=-999, n_estimators=410, nthread=5, objective=binary:logistic, seed=1337, silent=0, subsample=1.0 \n",
      "[CV]  colsample_bytree=0.5, learning_rate=0.5, max_depth=11, min_child_weight=5, missing=-999, n_estimators=410, nthread=5, objective=binary:logistic, seed=1337, silent=0, subsample=0.5 -10.0min\n",
      "[CV] colsample_bytree=0.5, learning_rate=0.5, max_depth=11, min_child_weight=5, missing=-999, n_estimators=410, nthread=10, objective=binary:logistic, seed=1337, silent=0, subsample=0.5 \n",
      "[CV]  colsample_bytree=0.5, learning_rate=0.5, max_depth=11, min_child_weight=5, missing=-999, n_estimators=410, nthread=5, objective=binary:logistic, seed=1337, silent=0, subsample=1.0 -10.4min\n",
      "[CV] colsample_bytree=0.5, learning_rate=0.5, max_depth=11, min_child_weight=5, missing=-999, n_estimators=410, nthread=10, objective=binary:logistic, seed=1337, silent=0, subsample=0.5 \n",
      "[CV]  colsample_bytree=0.5, learning_rate=0.5, max_depth=11, min_child_weight=5, missing=-999, n_estimators=410, nthread=5, objective=binary:logistic, seed=1337, silent=0, subsample=1.0 -10.3min\n",
      "[CV] colsample_bytree=0.5, learning_rate=0.5, max_depth=11, min_child_weight=5, missing=-999, n_estimators=410, nthread=10, objective=binary:logistic, seed=1337, silent=0, subsample=0.5 \n",
      "[CV]  colsample_bytree=0.5, learning_rate=0.5, max_depth=11, min_child_weight=5, missing=-999, n_estimators=410, nthread=5, objective=binary:logistic, seed=1337, silent=0, subsample=1.0 - 9.9min\n",
      "[CV] colsample_bytree=0.5, learning_rate=0.5, max_depth=11, min_child_weight=5, missing=-999, n_estimators=410, nthread=10, objective=binary:logistic, seed=1337, silent=0, subsample=0.5 \n",
      "[CV]  colsample_bytree=0.5, learning_rate=0.5, max_depth=11, min_child_weight=5, missing=-999, n_estimators=410, nthread=5, objective=binary:logistic, seed=1337, silent=0, subsample=1.0 - 9.9min\n",
      "[CV] colsample_bytree=0.5, learning_rate=0.5, max_depth=11, min_child_weight=5, missing=-999, n_estimators=410, nthread=10, objective=binary:logistic, seed=1337, silent=0, subsample=1.0 \n",
      "[CV]  colsample_bytree=0.5, learning_rate=0.5, max_depth=11, min_child_weight=5, missing=-999, n_estimators=410, nthread=10, objective=binary:logistic, seed=1337, silent=0, subsample=0.5 -10.7min\n",
      "[CV] colsample_bytree=0.5, learning_rate=0.5, max_depth=11, min_child_weight=5, missing=-999, n_estimators=410, nthread=10, objective=binary:logistic, seed=1337, silent=0, subsample=1.0 \n",
      "[CV]  colsample_bytree=0.5, learning_rate=0.5, max_depth=11, min_child_weight=5, missing=-999, n_estimators=410, nthread=10, objective=binary:logistic, seed=1337, silent=0, subsample=0.5 -10.5min\n",
      "[CV] colsample_bytree=0.5, learning_rate=0.5, max_depth=11, min_child_weight=5, missing=-999, n_estimators=410, nthread=10, objective=binary:logistic, seed=1337, silent=0, subsample=1.0 \n"
     ]
    },
    {
     "name": "stdout",
     "output_type": "stream",
     "text": [
      "[CV]  colsample_bytree=0.5, learning_rate=0.5, max_depth=11, min_child_weight=5, missing=-999, n_estimators=410, nthread=10, objective=binary:logistic, seed=1337, silent=0, subsample=0.5 -10.4min\n",
      "[CV] colsample_bytree=0.5, learning_rate=0.5, max_depth=11, min_child_weight=5, missing=-999, n_estimators=410, nthread=10, objective=binary:logistic, seed=1337, silent=0, subsample=1.0 \n",
      "[CV]  colsample_bytree=0.5, learning_rate=0.5, max_depth=11, min_child_weight=5, missing=-999, n_estimators=410, nthread=10, objective=binary:logistic, seed=1337, silent=0, subsample=0.5 -10.4min\n",
      "[CV] colsample_bytree=0.5, learning_rate=0.5, max_depth=11, min_child_weight=11, missing=-999, n_estimators=410, nthread=5, objective=binary:logistic, seed=1337, silent=0, subsample=0.5 \n",
      "[CV]  colsample_bytree=0.5, learning_rate=0.5, max_depth=11, min_child_weight=5, missing=-999, n_estimators=410, nthread=10, objective=binary:logistic, seed=1337, silent=0, subsample=1.0 -10.5min\n",
      "[CV] colsample_bytree=0.5, learning_rate=0.5, max_depth=11, min_child_weight=11, missing=-999, n_estimators=410, nthread=5, objective=binary:logistic, seed=1337, silent=0, subsample=0.5 \n",
      "[CV]  colsample_bytree=0.5, learning_rate=0.5, max_depth=11, min_child_weight=5, missing=-999, n_estimators=410, nthread=10, objective=binary:logistic, seed=1337, silent=0, subsample=1.0 -10.7min\n",
      "[CV] colsample_bytree=0.5, learning_rate=0.5, max_depth=11, min_child_weight=11, missing=-999, n_estimators=410, nthread=5, objective=binary:logistic, seed=1337, silent=0, subsample=0.5 \n",
      "[CV]  colsample_bytree=0.5, learning_rate=0.5, max_depth=11, min_child_weight=5, missing=-999, n_estimators=410, nthread=10, objective=binary:logistic, seed=1337, silent=0, subsample=1.0 -10.8min\n",
      "[CV] colsample_bytree=0.5, learning_rate=0.5, max_depth=11, min_child_weight=11, missing=-999, n_estimators=410, nthread=5, objective=binary:logistic, seed=1337, silent=0, subsample=0.5 \n",
      "[CV]  colsample_bytree=0.5, learning_rate=0.5, max_depth=11, min_child_weight=5, missing=-999, n_estimators=410, nthread=10, objective=binary:logistic, seed=1337, silent=0, subsample=1.0 -10.9min\n",
      "[CV] colsample_bytree=0.5, learning_rate=0.5, max_depth=11, min_child_weight=11, missing=-999, n_estimators=410, nthread=5, objective=binary:logistic, seed=1337, silent=0, subsample=1.0 \n",
      "[CV]  colsample_bytree=0.5, learning_rate=0.5, max_depth=11, min_child_weight=11, missing=-999, n_estimators=410, nthread=5, objective=binary:logistic, seed=1337, silent=0, subsample=0.5 - 9.9min\n",
      "[CV] colsample_bytree=0.5, learning_rate=0.5, max_depth=11, min_child_weight=11, missing=-999, n_estimators=410, nthread=5, objective=binary:logistic, seed=1337, silent=0, subsample=1.0 \n",
      "[CV]  colsample_bytree=0.5, learning_rate=0.5, max_depth=11, min_child_weight=11, missing=-999, n_estimators=410, nthread=5, objective=binary:logistic, seed=1337, silent=0, subsample=0.5 - 9.8min\n",
      "[CV] colsample_bytree=0.5, learning_rate=0.5, max_depth=11, min_child_weight=11, missing=-999, n_estimators=410, nthread=5, objective=binary:logistic, seed=1337, silent=0, subsample=1.0 \n",
      "[CV]  colsample_bytree=0.5, learning_rate=0.5, max_depth=11, min_child_weight=11, missing=-999, n_estimators=410, nthread=5, objective=binary:logistic, seed=1337, silent=0, subsample=0.5 - 9.6min\n",
      "[CV] colsample_bytree=0.5, learning_rate=0.5, max_depth=11, min_child_weight=11, missing=-999, n_estimators=410, nthread=5, objective=binary:logistic, seed=1337, silent=0, subsample=1.0 \n",
      "[CV]  colsample_bytree=0.5, learning_rate=0.5, max_depth=11, min_child_weight=11, missing=-999, n_estimators=410, nthread=5, objective=binary:logistic, seed=1337, silent=0, subsample=0.5 - 9.6min\n",
      "[CV] colsample_bytree=0.5, learning_rate=0.5, max_depth=11, min_child_weight=11, missing=-999, n_estimators=410, nthread=10, objective=binary:logistic, seed=1337, silent=0, subsample=0.5 \n",
      "[CV]  colsample_bytree=0.5, learning_rate=0.5, max_depth=11, min_child_weight=11, missing=-999, n_estimators=410, nthread=5, objective=binary:logistic, seed=1337, silent=0, subsample=1.0 -10.4min\n",
      "[CV] colsample_bytree=0.5, learning_rate=0.5, max_depth=11, min_child_weight=11, missing=-999, n_estimators=410, nthread=10, objective=binary:logistic, seed=1337, silent=0, subsample=0.5 \n",
      "[CV]  colsample_bytree=0.5, learning_rate=0.5, max_depth=11, min_child_weight=11, missing=-999, n_estimators=410, nthread=5, objective=binary:logistic, seed=1337, silent=0, subsample=1.0 -10.3min\n",
      "[CV] colsample_bytree=0.5, learning_rate=0.5, max_depth=11, min_child_weight=11, missing=-999, n_estimators=410, nthread=10, objective=binary:logistic, seed=1337, silent=0, subsample=0.5 \n",
      "[CV]  colsample_bytree=0.5, learning_rate=0.5, max_depth=11, min_child_weight=11, missing=-999, n_estimators=410, nthread=5, objective=binary:logistic, seed=1337, silent=0, subsample=1.0 -10.3min\n",
      "[CV] colsample_bytree=0.5, learning_rate=0.5, max_depth=11, min_child_weight=11, missing=-999, n_estimators=410, nthread=10, objective=binary:logistic, seed=1337, silent=0, subsample=0.5 \n",
      "[CV]  colsample_bytree=0.5, learning_rate=0.5, max_depth=11, min_child_weight=11, missing=-999, n_estimators=410, nthread=5, objective=binary:logistic, seed=1337, silent=0, subsample=1.0 -10.2min\n",
      "[CV] colsample_bytree=0.5, learning_rate=0.5, max_depth=11, min_child_weight=11, missing=-999, n_estimators=410, nthread=10, objective=binary:logistic, seed=1337, silent=0, subsample=1.0 \n",
      "[CV]  colsample_bytree=0.5, learning_rate=0.5, max_depth=11, min_child_weight=11, missing=-999, n_estimators=410, nthread=10, objective=binary:logistic, seed=1337, silent=0, subsample=0.5 -10.4min\n",
      "[CV] colsample_bytree=0.5, learning_rate=0.5, max_depth=11, min_child_weight=11, missing=-999, n_estimators=410, nthread=10, objective=binary:logistic, seed=1337, silent=0, subsample=1.0 \n",
      "[CV]  colsample_bytree=0.5, learning_rate=0.5, max_depth=11, min_child_weight=11, missing=-999, n_estimators=410, nthread=10, objective=binary:logistic, seed=1337, silent=0, subsample=0.5 -10.2min\n",
      "[CV] colsample_bytree=0.5, learning_rate=0.5, max_depth=11, min_child_weight=11, missing=-999, n_estimators=410, nthread=10, objective=binary:logistic, seed=1337, silent=0, subsample=1.0 \n",
      "[CV]  colsample_bytree=0.5, learning_rate=0.5, max_depth=11, min_child_weight=11, missing=-999, n_estimators=410, nthread=10, objective=binary:logistic, seed=1337, silent=0, subsample=0.5 -10.0min\n",
      "[CV] colsample_bytree=0.5, learning_rate=0.5, max_depth=11, min_child_weight=11, missing=-999, n_estimators=410, nthread=10, objective=binary:logistic, seed=1337, silent=0, subsample=1.0 \n",
      "[CV]  colsample_bytree=0.5, learning_rate=0.5, max_depth=11, min_child_weight=11, missing=-999, n_estimators=410, nthread=10, objective=binary:logistic, seed=1337, silent=0, subsample=0.5 -10.0min\n",
      "[CV] colsample_bytree=1.0, learning_rate=0.05, max_depth=11, min_child_weight=5, missing=-999, n_estimators=410, nthread=5, objective=binary:logistic, seed=1337, silent=0, subsample=0.5 \n",
      "[CV]  colsample_bytree=0.5, learning_rate=0.5, max_depth=11, min_child_weight=11, missing=-999, n_estimators=410, nthread=10, objective=binary:logistic, seed=1337, silent=0, subsample=1.0 -10.4min\n",
      "[CV] colsample_bytree=1.0, learning_rate=0.05, max_depth=11, min_child_weight=5, missing=-999, n_estimators=410, nthread=5, objective=binary:logistic, seed=1337, silent=0, subsample=0.5 \n",
      "[CV]  colsample_bytree=0.5, learning_rate=0.5, max_depth=11, min_child_weight=11, missing=-999, n_estimators=410, nthread=10, objective=binary:logistic, seed=1337, silent=0, subsample=1.0 -10.4min\n",
      "[CV] colsample_bytree=1.0, learning_rate=0.05, max_depth=11, min_child_weight=5, missing=-999, n_estimators=410, nthread=5, objective=binary:logistic, seed=1337, silent=0, subsample=0.5 \n",
      "[CV]  colsample_bytree=0.5, learning_rate=0.5, max_depth=11, min_child_weight=11, missing=-999, n_estimators=410, nthread=10, objective=binary:logistic, seed=1337, silent=0, subsample=1.0 -10.5min\n",
      "[CV] colsample_bytree=1.0, learning_rate=0.05, max_depth=11, min_child_weight=5, missing=-999, n_estimators=410, nthread=5, objective=binary:logistic, seed=1337, silent=0, subsample=0.5 \n",
      "[CV]  colsample_bytree=0.5, learning_rate=0.5, max_depth=11, min_child_weight=11, missing=-999, n_estimators=410, nthread=10, objective=binary:logistic, seed=1337, silent=0, subsample=1.0 -10.6min\n"
     ]
    },
    {
     "name": "stdout",
     "output_type": "stream",
     "text": [
      "[CV] colsample_bytree=1.0, learning_rate=0.05, max_depth=11, min_child_weight=5, missing=-999, n_estimators=410, nthread=5, objective=binary:logistic, seed=1337, silent=0, subsample=1.0 \n",
      "[CV]  colsample_bytree=1.0, learning_rate=0.05, max_depth=11, min_child_weight=5, missing=-999, n_estimators=410, nthread=5, objective=binary:logistic, seed=1337, silent=0, subsample=0.5 -18.8min\n",
      "[CV] colsample_bytree=1.0, learning_rate=0.05, max_depth=11, min_child_weight=5, missing=-999, n_estimators=410, nthread=5, objective=binary:logistic, seed=1337, silent=0, subsample=1.0 \n",
      "[CV]  colsample_bytree=1.0, learning_rate=0.05, max_depth=11, min_child_weight=5, missing=-999, n_estimators=410, nthread=5, objective=binary:logistic, seed=1337, silent=0, subsample=0.5 -18.8min\n",
      "[CV] colsample_bytree=1.0, learning_rate=0.05, max_depth=11, min_child_weight=5, missing=-999, n_estimators=410, nthread=5, objective=binary:logistic, seed=1337, silent=0, subsample=1.0 \n",
      "[CV]  colsample_bytree=1.0, learning_rate=0.05, max_depth=11, min_child_weight=5, missing=-999, n_estimators=410, nthread=5, objective=binary:logistic, seed=1337, silent=0, subsample=0.5 -18.8min\n",
      "[CV] colsample_bytree=1.0, learning_rate=0.05, max_depth=11, min_child_weight=5, missing=-999, n_estimators=410, nthread=5, objective=binary:logistic, seed=1337, silent=0, subsample=1.0 \n",
      "[CV]  colsample_bytree=1.0, learning_rate=0.05, max_depth=11, min_child_weight=5, missing=-999, n_estimators=410, nthread=5, objective=binary:logistic, seed=1337, silent=0, subsample=0.5 -18.7min\n",
      "[CV] colsample_bytree=1.0, learning_rate=0.05, max_depth=11, min_child_weight=5, missing=-999, n_estimators=410, nthread=10, objective=binary:logistic, seed=1337, silent=0, subsample=0.5 \n",
      "[CV]  colsample_bytree=1.0, learning_rate=0.05, max_depth=11, min_child_weight=5, missing=-999, n_estimators=410, nthread=5, objective=binary:logistic, seed=1337, silent=0, subsample=1.0 -19.8min\n",
      "[CV] colsample_bytree=1.0, learning_rate=0.05, max_depth=11, min_child_weight=5, missing=-999, n_estimators=410, nthread=10, objective=binary:logistic, seed=1337, silent=0, subsample=0.5 \n",
      "[CV]  colsample_bytree=1.0, learning_rate=0.05, max_depth=11, min_child_weight=5, missing=-999, n_estimators=410, nthread=5, objective=binary:logistic, seed=1337, silent=0, subsample=1.0 -19.3min\n",
      "[CV] colsample_bytree=1.0, learning_rate=0.05, max_depth=11, min_child_weight=5, missing=-999, n_estimators=410, nthread=10, objective=binary:logistic, seed=1337, silent=0, subsample=0.5 \n",
      "[CV]  colsample_bytree=1.0, learning_rate=0.05, max_depth=11, min_child_weight=5, missing=-999, n_estimators=410, nthread=5, objective=binary:logistic, seed=1337, silent=0, subsample=1.0 -19.6min\n",
      "[CV] colsample_bytree=1.0, learning_rate=0.05, max_depth=11, min_child_weight=5, missing=-999, n_estimators=410, nthread=10, objective=binary:logistic, seed=1337, silent=0, subsample=0.5 \n",
      "[CV]  colsample_bytree=1.0, learning_rate=0.05, max_depth=11, min_child_weight=5, missing=-999, n_estimators=410, nthread=5, objective=binary:logistic, seed=1337, silent=0, subsample=1.0 -19.7min\n",
      "[CV] colsample_bytree=1.0, learning_rate=0.05, max_depth=11, min_child_weight=5, missing=-999, n_estimators=410, nthread=10, objective=binary:logistic, seed=1337, silent=0, subsample=1.0 \n",
      "[CV]  colsample_bytree=1.0, learning_rate=0.05, max_depth=11, min_child_weight=5, missing=-999, n_estimators=410, nthread=10, objective=binary:logistic, seed=1337, silent=0, subsample=0.5 -19.4min\n",
      "[CV] colsample_bytree=1.0, learning_rate=0.05, max_depth=11, min_child_weight=5, missing=-999, n_estimators=410, nthread=10, objective=binary:logistic, seed=1337, silent=0, subsample=1.0 \n",
      "[CV]  colsample_bytree=1.0, learning_rate=0.05, max_depth=11, min_child_weight=5, missing=-999, n_estimators=410, nthread=10, objective=binary:logistic, seed=1337, silent=0, subsample=0.5 -19.1min\n",
      "[CV] colsample_bytree=1.0, learning_rate=0.05, max_depth=11, min_child_weight=5, missing=-999, n_estimators=410, nthread=10, objective=binary:logistic, seed=1337, silent=0, subsample=1.0 \n",
      "[CV]  colsample_bytree=1.0, learning_rate=0.05, max_depth=11, min_child_weight=5, missing=-999, n_estimators=410, nthread=10, objective=binary:logistic, seed=1337, silent=0, subsample=0.5 -19.0min\n",
      "[CV] colsample_bytree=1.0, learning_rate=0.05, max_depth=11, min_child_weight=5, missing=-999, n_estimators=410, nthread=10, objective=binary:logistic, seed=1337, silent=0, subsample=1.0 \n",
      "[CV]  colsample_bytree=1.0, learning_rate=0.05, max_depth=11, min_child_weight=5, missing=-999, n_estimators=410, nthread=10, objective=binary:logistic, seed=1337, silent=0, subsample=0.5 -18.8min\n",
      "[CV] colsample_bytree=1.0, learning_rate=0.05, max_depth=11, min_child_weight=11, missing=-999, n_estimators=410, nthread=5, objective=binary:logistic, seed=1337, silent=0, subsample=0.5 \n",
      "[CV]  colsample_bytree=1.0, learning_rate=0.05, max_depth=11, min_child_weight=5, missing=-999, n_estimators=410, nthread=10, objective=binary:logistic, seed=1337, silent=0, subsample=1.0 -20.1min\n",
      "[CV] colsample_bytree=1.0, learning_rate=0.05, max_depth=11, min_child_weight=11, missing=-999, n_estimators=410, nthread=5, objective=binary:logistic, seed=1337, silent=0, subsample=0.5 \n",
      "[CV]  colsample_bytree=1.0, learning_rate=0.05, max_depth=11, min_child_weight=5, missing=-999, n_estimators=410, nthread=10, objective=binary:logistic, seed=1337, silent=0, subsample=1.0 -19.6min\n",
      "[CV] colsample_bytree=1.0, learning_rate=0.05, max_depth=11, min_child_weight=11, missing=-999, n_estimators=410, nthread=5, objective=binary:logistic, seed=1337, silent=0, subsample=0.5 \n",
      "[CV]  colsample_bytree=1.0, learning_rate=0.05, max_depth=11, min_child_weight=5, missing=-999, n_estimators=410, nthread=10, objective=binary:logistic, seed=1337, silent=0, subsample=1.0 -20.4min\n",
      "[CV] colsample_bytree=1.0, learning_rate=0.05, max_depth=11, min_child_weight=11, missing=-999, n_estimators=410, nthread=5, objective=binary:logistic, seed=1337, silent=0, subsample=0.5 \n",
      "[CV]  colsample_bytree=1.0, learning_rate=0.05, max_depth=11, min_child_weight=5, missing=-999, n_estimators=410, nthread=10, objective=binary:logistic, seed=1337, silent=0, subsample=1.0 -20.7min\n",
      "[CV] colsample_bytree=1.0, learning_rate=0.05, max_depth=11, min_child_weight=11, missing=-999, n_estimators=410, nthread=5, objective=binary:logistic, seed=1337, silent=0, subsample=1.0 \n",
      "[CV]  colsample_bytree=1.0, learning_rate=0.05, max_depth=11, min_child_weight=11, missing=-999, n_estimators=410, nthread=5, objective=binary:logistic, seed=1337, silent=0, subsample=0.5 -18.8min\n",
      "[CV] colsample_bytree=1.0, learning_rate=0.05, max_depth=11, min_child_weight=11, missing=-999, n_estimators=410, nthread=5, objective=binary:logistic, seed=1337, silent=0, subsample=1.0 \n",
      "[CV]  colsample_bytree=1.0, learning_rate=0.05, max_depth=11, min_child_weight=11, missing=-999, n_estimators=410, nthread=5, objective=binary:logistic, seed=1337, silent=0, subsample=0.5 -18.5min\n",
      "[CV] colsample_bytree=1.0, learning_rate=0.05, max_depth=11, min_child_weight=11, missing=-999, n_estimators=410, nthread=5, objective=binary:logistic, seed=1337, silent=0, subsample=1.0 \n",
      "[CV]  colsample_bytree=1.0, learning_rate=0.05, max_depth=11, min_child_weight=11, missing=-999, n_estimators=410, nthread=5, objective=binary:logistic, seed=1337, silent=0, subsample=0.5 -18.5min\n",
      "[CV] colsample_bytree=1.0, learning_rate=0.05, max_depth=11, min_child_weight=11, missing=-999, n_estimators=410, nthread=5, objective=binary:logistic, seed=1337, silent=0, subsample=1.0 \n",
      "[CV]  colsample_bytree=1.0, learning_rate=0.05, max_depth=11, min_child_weight=11, missing=-999, n_estimators=410, nthread=5, objective=binary:logistic, seed=1337, silent=0, subsample=0.5 -18.2min\n",
      "[CV] colsample_bytree=1.0, learning_rate=0.05, max_depth=11, min_child_weight=11, missing=-999, n_estimators=410, nthread=10, objective=binary:logistic, seed=1337, silent=0, subsample=0.5 \n",
      "[CV]  colsample_bytree=1.0, learning_rate=0.05, max_depth=11, min_child_weight=11, missing=-999, n_estimators=410, nthread=5, objective=binary:logistic, seed=1337, silent=0, subsample=1.0 -19.8min\n",
      "[CV] colsample_bytree=1.0, learning_rate=0.05, max_depth=11, min_child_weight=11, missing=-999, n_estimators=410, nthread=10, objective=binary:logistic, seed=1337, silent=0, subsample=0.5 \n"
     ]
    },
    {
     "name": "stdout",
     "output_type": "stream",
     "text": [
      "[CV]  colsample_bytree=1.0, learning_rate=0.05, max_depth=11, min_child_weight=11, missing=-999, n_estimators=410, nthread=5, objective=binary:logistic, seed=1337, silent=0, subsample=1.0 -19.8min\n",
      "[CV] colsample_bytree=1.0, learning_rate=0.05, max_depth=11, min_child_weight=11, missing=-999, n_estimators=410, nthread=10, objective=binary:logistic, seed=1337, silent=0, subsample=0.5 \n",
      "[CV]  colsample_bytree=1.0, learning_rate=0.05, max_depth=11, min_child_weight=11, missing=-999, n_estimators=410, nthread=5, objective=binary:logistic, seed=1337, silent=0, subsample=1.0 -19.7min\n",
      "[CV] colsample_bytree=1.0, learning_rate=0.05, max_depth=11, min_child_weight=11, missing=-999, n_estimators=410, nthread=10, objective=binary:logistic, seed=1337, silent=0, subsample=0.5 \n",
      "[CV]  colsample_bytree=1.0, learning_rate=0.05, max_depth=11, min_child_weight=11, missing=-999, n_estimators=410, nthread=5, objective=binary:logistic, seed=1337, silent=0, subsample=1.0 -20.0min\n",
      "[CV] colsample_bytree=1.0, learning_rate=0.05, max_depth=11, min_child_weight=11, missing=-999, n_estimators=410, nthread=10, objective=binary:logistic, seed=1337, silent=0, subsample=1.0 \n",
      "[CV]  colsample_bytree=1.0, learning_rate=0.05, max_depth=11, min_child_weight=11, missing=-999, n_estimators=410, nthread=10, objective=binary:logistic, seed=1337, silent=0, subsample=0.5 -17.7min\n",
      "[CV] colsample_bytree=1.0, learning_rate=0.05, max_depth=11, min_child_weight=11, missing=-999, n_estimators=410, nthread=10, objective=binary:logistic, seed=1337, silent=0, subsample=1.0 \n",
      "[CV]  colsample_bytree=1.0, learning_rate=0.05, max_depth=11, min_child_weight=11, missing=-999, n_estimators=410, nthread=10, objective=binary:logistic, seed=1337, silent=0, subsample=0.5 -18.4min\n",
      "[CV] colsample_bytree=1.0, learning_rate=0.05, max_depth=11, min_child_weight=11, missing=-999, n_estimators=410, nthread=10, objective=binary:logistic, seed=1337, silent=0, subsample=1.0 \n",
      "[CV]  colsample_bytree=1.0, learning_rate=0.05, max_depth=11, min_child_weight=11, missing=-999, n_estimators=410, nthread=10, objective=binary:logistic, seed=1337, silent=0, subsample=0.5 -18.5min\n",
      "[CV] colsample_bytree=1.0, learning_rate=0.05, max_depth=11, min_child_weight=11, missing=-999, n_estimators=410, nthread=10, objective=binary:logistic, seed=1337, silent=0, subsample=1.0 \n",
      "[CV]  colsample_bytree=1.0, learning_rate=0.05, max_depth=11, min_child_weight=11, missing=-999, n_estimators=410, nthread=10, objective=binary:logistic, seed=1337, silent=0, subsample=0.5 -18.4min\n",
      "[CV] colsample_bytree=1.0, learning_rate=0.25, max_depth=11, min_child_weight=5, missing=-999, n_estimators=410, nthread=5, objective=binary:logistic, seed=1337, silent=0, subsample=0.5 \n",
      "[CV]  colsample_bytree=1.0, learning_rate=0.05, max_depth=11, min_child_weight=11, missing=-999, n_estimators=410, nthread=10, objective=binary:logistic, seed=1337, silent=0, subsample=1.0 -19.4min\n",
      "[CV] colsample_bytree=1.0, learning_rate=0.25, max_depth=11, min_child_weight=5, missing=-999, n_estimators=410, nthread=5, objective=binary:logistic, seed=1337, silent=0, subsample=0.5 \n",
      "[CV]  colsample_bytree=1.0, learning_rate=0.05, max_depth=11, min_child_weight=11, missing=-999, n_estimators=410, nthread=10, objective=binary:logistic, seed=1337, silent=0, subsample=1.0 -19.3min\n",
      "[CV] colsample_bytree=1.0, learning_rate=0.25, max_depth=11, min_child_weight=5, missing=-999, n_estimators=410, nthread=5, objective=binary:logistic, seed=1337, silent=0, subsample=0.5 \n",
      "[CV]  colsample_bytree=1.0, learning_rate=0.05, max_depth=11, min_child_weight=11, missing=-999, n_estimators=410, nthread=10, objective=binary:logistic, seed=1337, silent=0, subsample=1.0 -18.5min\n",
      "[CV] colsample_bytree=1.0, learning_rate=0.25, max_depth=11, min_child_weight=5, missing=-999, n_estimators=410, nthread=5, objective=binary:logistic, seed=1337, silent=0, subsample=0.5 \n",
      "[CV]  colsample_bytree=1.0, learning_rate=0.05, max_depth=11, min_child_weight=11, missing=-999, n_estimators=410, nthread=10, objective=binary:logistic, seed=1337, silent=0, subsample=1.0 -18.6min\n",
      "[CV] colsample_bytree=1.0, learning_rate=0.25, max_depth=11, min_child_weight=5, missing=-999, n_estimators=410, nthread=5, objective=binary:logistic, seed=1337, silent=0, subsample=1.0 \n",
      "[CV]  colsample_bytree=1.0, learning_rate=0.25, max_depth=11, min_child_weight=5, missing=-999, n_estimators=410, nthread=5, objective=binary:logistic, seed=1337, silent=0, subsample=0.5 -19.9min\n",
      "[CV] colsample_bytree=1.0, learning_rate=0.25, max_depth=11, min_child_weight=5, missing=-999, n_estimators=410, nthread=5, objective=binary:logistic, seed=1337, silent=0, subsample=1.0 \n",
      "[CV]  colsample_bytree=1.0, learning_rate=0.25, max_depth=11, min_child_weight=5, missing=-999, n_estimators=410, nthread=5, objective=binary:logistic, seed=1337, silent=0, subsample=0.5 -19.5min\n",
      "[CV] colsample_bytree=1.0, learning_rate=0.25, max_depth=11, min_child_weight=5, missing=-999, n_estimators=410, nthread=5, objective=binary:logistic, seed=1337, silent=0, subsample=1.0 \n",
      "[CV]  colsample_bytree=1.0, learning_rate=0.25, max_depth=11, min_child_weight=5, missing=-999, n_estimators=410, nthread=5, objective=binary:logistic, seed=1337, silent=0, subsample=0.5 -19.1min\n",
      "[CV] colsample_bytree=1.0, learning_rate=0.25, max_depth=11, min_child_weight=5, missing=-999, n_estimators=410, nthread=5, objective=binary:logistic, seed=1337, silent=0, subsample=1.0 \n",
      "[CV]  colsample_bytree=1.0, learning_rate=0.25, max_depth=11, min_child_weight=5, missing=-999, n_estimators=410, nthread=5, objective=binary:logistic, seed=1337, silent=0, subsample=0.5 -18.2min\n",
      "[CV] colsample_bytree=1.0, learning_rate=0.25, max_depth=11, min_child_weight=5, missing=-999, n_estimators=410, nthread=10, objective=binary:logistic, seed=1337, silent=0, subsample=0.5 \n",
      "[CV]  colsample_bytree=1.0, learning_rate=0.25, max_depth=11, min_child_weight=5, missing=-999, n_estimators=410, nthread=5, objective=binary:logistic, seed=1337, silent=0, subsample=1.0 -19.4min\n",
      "[CV] colsample_bytree=1.0, learning_rate=0.25, max_depth=11, min_child_weight=5, missing=-999, n_estimators=410, nthread=10, objective=binary:logistic, seed=1337, silent=0, subsample=0.5 \n",
      "[CV]  colsample_bytree=1.0, learning_rate=0.25, max_depth=11, min_child_weight=5, missing=-999, n_estimators=410, nthread=5, objective=binary:logistic, seed=1337, silent=0, subsample=1.0 -19.4min\n",
      "[CV] colsample_bytree=1.0, learning_rate=0.25, max_depth=11, min_child_weight=5, missing=-999, n_estimators=410, nthread=10, objective=binary:logistic, seed=1337, silent=0, subsample=0.5 \n",
      "[CV]  colsample_bytree=1.0, learning_rate=0.25, max_depth=11, min_child_weight=5, missing=-999, n_estimators=410, nthread=5, objective=binary:logistic, seed=1337, silent=0, subsample=1.0 -19.4min\n",
      "[CV] colsample_bytree=1.0, learning_rate=0.25, max_depth=11, min_child_weight=5, missing=-999, n_estimators=410, nthread=10, objective=binary:logistic, seed=1337, silent=0, subsample=0.5 \n",
      "[CV]  colsample_bytree=1.0, learning_rate=0.25, max_depth=11, min_child_weight=5, missing=-999, n_estimators=410, nthread=5, objective=binary:logistic, seed=1337, silent=0, subsample=1.0 -19.6min\n",
      "[CV] colsample_bytree=1.0, learning_rate=0.25, max_depth=11, min_child_weight=5, missing=-999, n_estimators=410, nthread=10, objective=binary:logistic, seed=1337, silent=0, subsample=1.0 \n",
      "[CV]  colsample_bytree=1.0, learning_rate=0.25, max_depth=11, min_child_weight=5, missing=-999, n_estimators=410, nthread=10, objective=binary:logistic, seed=1337, silent=0, subsample=0.5 -18.3min\n",
      "[CV] colsample_bytree=1.0, learning_rate=0.25, max_depth=11, min_child_weight=5, missing=-999, n_estimators=410, nthread=10, objective=binary:logistic, seed=1337, silent=0, subsample=1.0 \n",
      "[CV]  colsample_bytree=1.0, learning_rate=0.25, max_depth=11, min_child_weight=5, missing=-999, n_estimators=410, nthread=10, objective=binary:logistic, seed=1337, silent=0, subsample=0.5 -18.3min\n",
      "[CV] colsample_bytree=1.0, learning_rate=0.25, max_depth=11, min_child_weight=5, missing=-999, n_estimators=410, nthread=10, objective=binary:logistic, seed=1337, silent=0, subsample=1.0 \n",
      "[CV]  colsample_bytree=1.0, learning_rate=0.25, max_depth=11, min_child_weight=5, missing=-999, n_estimators=410, nthread=10, objective=binary:logistic, seed=1337, silent=0, subsample=0.5 -18.2min\n"
     ]
    },
    {
     "name": "stdout",
     "output_type": "stream",
     "text": [
      "[CV] colsample_bytree=1.0, learning_rate=0.25, max_depth=11, min_child_weight=5, missing=-999, n_estimators=410, nthread=10, objective=binary:logistic, seed=1337, silent=0, subsample=1.0 \n",
      "[CV]  colsample_bytree=1.0, learning_rate=0.25, max_depth=11, min_child_weight=5, missing=-999, n_estimators=410, nthread=10, objective=binary:logistic, seed=1337, silent=0, subsample=0.5 -18.3min\n",
      "[CV] colsample_bytree=1.0, learning_rate=0.25, max_depth=11, min_child_weight=11, missing=-999, n_estimators=410, nthread=5, objective=binary:logistic, seed=1337, silent=0, subsample=0.5 \n",
      "[CV]  colsample_bytree=1.0, learning_rate=0.25, max_depth=11, min_child_weight=5, missing=-999, n_estimators=410, nthread=10, objective=binary:logistic, seed=1337, silent=0, subsample=1.0 -19.1min\n",
      "[CV] colsample_bytree=1.0, learning_rate=0.25, max_depth=11, min_child_weight=11, missing=-999, n_estimators=410, nthread=5, objective=binary:logistic, seed=1337, silent=0, subsample=0.5 \n",
      "[CV]  colsample_bytree=1.0, learning_rate=0.25, max_depth=11, min_child_weight=5, missing=-999, n_estimators=410, nthread=10, objective=binary:logistic, seed=1337, silent=0, subsample=1.0 -19.0min\n",
      "[CV] colsample_bytree=1.0, learning_rate=0.25, max_depth=11, min_child_weight=11, missing=-999, n_estimators=410, nthread=5, objective=binary:logistic, seed=1337, silent=0, subsample=0.5 \n",
      "[CV]  colsample_bytree=1.0, learning_rate=0.25, max_depth=11, min_child_weight=5, missing=-999, n_estimators=410, nthread=10, objective=binary:logistic, seed=1337, silent=0, subsample=1.0 -19.1min\n",
      "[CV] colsample_bytree=1.0, learning_rate=0.25, max_depth=11, min_child_weight=11, missing=-999, n_estimators=410, nthread=5, objective=binary:logistic, seed=1337, silent=0, subsample=0.5 \n",
      "[CV]  colsample_bytree=1.0, learning_rate=0.25, max_depth=11, min_child_weight=5, missing=-999, n_estimators=410, nthread=10, objective=binary:logistic, seed=1337, silent=0, subsample=1.0 -18.9min\n",
      "[CV] colsample_bytree=1.0, learning_rate=0.25, max_depth=11, min_child_weight=11, missing=-999, n_estimators=410, nthread=5, objective=binary:logistic, seed=1337, silent=0, subsample=1.0 \n",
      "[CV]  colsample_bytree=1.0, learning_rate=0.25, max_depth=11, min_child_weight=11, missing=-999, n_estimators=410, nthread=5, objective=binary:logistic, seed=1337, silent=0, subsample=0.5 -20.0min\n",
      "[CV] colsample_bytree=1.0, learning_rate=0.25, max_depth=11, min_child_weight=11, missing=-999, n_estimators=410, nthread=5, objective=binary:logistic, seed=1337, silent=0, subsample=1.0 \n",
      "[CV]  colsample_bytree=1.0, learning_rate=0.25, max_depth=11, min_child_weight=11, missing=-999, n_estimators=410, nthread=5, objective=binary:logistic, seed=1337, silent=0, subsample=0.5 -19.0min\n",
      "[CV] colsample_bytree=1.0, learning_rate=0.25, max_depth=11, min_child_weight=11, missing=-999, n_estimators=410, nthread=5, objective=binary:logistic, seed=1337, silent=0, subsample=1.0 \n",
      "[CV]  colsample_bytree=1.0, learning_rate=0.25, max_depth=11, min_child_weight=11, missing=-999, n_estimators=410, nthread=5, objective=binary:logistic, seed=1337, silent=0, subsample=0.5 -18.1min\n",
      "[CV] colsample_bytree=1.0, learning_rate=0.25, max_depth=11, min_child_weight=11, missing=-999, n_estimators=410, nthread=5, objective=binary:logistic, seed=1337, silent=0, subsample=1.0 \n",
      "[CV]  colsample_bytree=1.0, learning_rate=0.25, max_depth=11, min_child_weight=11, missing=-999, n_estimators=410, nthread=5, objective=binary:logistic, seed=1337, silent=0, subsample=0.5 -17.8min\n",
      "[CV] colsample_bytree=1.0, learning_rate=0.25, max_depth=11, min_child_weight=11, missing=-999, n_estimators=410, nthread=10, objective=binary:logistic, seed=1337, silent=0, subsample=0.5 \n",
      "[CV]  colsample_bytree=1.0, learning_rate=0.25, max_depth=11, min_child_weight=11, missing=-999, n_estimators=410, nthread=5, objective=binary:logistic, seed=1337, silent=0, subsample=1.0 -19.7min\n",
      "[CV] colsample_bytree=1.0, learning_rate=0.25, max_depth=11, min_child_weight=11, missing=-999, n_estimators=410, nthread=10, objective=binary:logistic, seed=1337, silent=0, subsample=0.5 \n",
      "[CV]  colsample_bytree=1.0, learning_rate=0.25, max_depth=11, min_child_weight=11, missing=-999, n_estimators=410, nthread=5, objective=binary:logistic, seed=1337, silent=0, subsample=1.0 -20.4min\n",
      "[CV] colsample_bytree=1.0, learning_rate=0.25, max_depth=11, min_child_weight=11, missing=-999, n_estimators=410, nthread=10, objective=binary:logistic, seed=1337, silent=0, subsample=0.5 \n",
      "[CV]  colsample_bytree=1.0, learning_rate=0.25, max_depth=11, min_child_weight=11, missing=-999, n_estimators=410, nthread=5, objective=binary:logistic, seed=1337, silent=0, subsample=1.0 -21.6min\n",
      "[CV] colsample_bytree=1.0, learning_rate=0.25, max_depth=11, min_child_weight=11, missing=-999, n_estimators=410, nthread=10, objective=binary:logistic, seed=1337, silent=0, subsample=0.5 \n",
      "[CV]  colsample_bytree=1.0, learning_rate=0.25, max_depth=11, min_child_weight=11, missing=-999, n_estimators=410, nthread=10, objective=binary:logistic, seed=1337, silent=0, subsample=0.5 -18.5min\n"
     ]
    },
    {
     "name": "stderr",
     "output_type": "stream",
     "text": [
      "[Parallel(n_jobs=5)]: Done 152 tasks      | elapsed: 432.0min\n"
     ]
    },
    {
     "name": "stdout",
     "output_type": "stream",
     "text": [
      "[CV] colsample_bytree=1.0, learning_rate=0.25, max_depth=11, min_child_weight=11, missing=-999, n_estimators=410, nthread=10, objective=binary:logistic, seed=1337, silent=0, subsample=1.0 \n",
      "[CV]  colsample_bytree=1.0, learning_rate=0.25, max_depth=11, min_child_weight=11, missing=-999, n_estimators=410, nthread=5, objective=binary:logistic, seed=1337, silent=0, subsample=1.0 -24.8min\n",
      "[CV] colsample_bytree=1.0, learning_rate=0.25, max_depth=11, min_child_weight=11, missing=-999, n_estimators=410, nthread=10, objective=binary:logistic, seed=1337, silent=0, subsample=1.0 \n",
      "[CV]  colsample_bytree=1.0, learning_rate=0.25, max_depth=11, min_child_weight=11, missing=-999, n_estimators=410, nthread=10, objective=binary:logistic, seed=1337, silent=0, subsample=0.5 -20.2min\n",
      "[CV] colsample_bytree=1.0, learning_rate=0.25, max_depth=11, min_child_weight=11, missing=-999, n_estimators=410, nthread=10, objective=binary:logistic, seed=1337, silent=0, subsample=1.0 \n",
      "[CV]  colsample_bytree=1.0, learning_rate=0.25, max_depth=11, min_child_weight=11, missing=-999, n_estimators=410, nthread=10, objective=binary:logistic, seed=1337, silent=0, subsample=0.5 -21.1min\n",
      "[CV] colsample_bytree=1.0, learning_rate=0.25, max_depth=11, min_child_weight=11, missing=-999, n_estimators=410, nthread=10, objective=binary:logistic, seed=1337, silent=0, subsample=1.0 \n",
      "[CV]  colsample_bytree=1.0, learning_rate=0.25, max_depth=11, min_child_weight=11, missing=-999, n_estimators=410, nthread=10, objective=binary:logistic, seed=1337, silent=0, subsample=0.5 -21.8min\n",
      "[CV] colsample_bytree=1.0, learning_rate=0.5, max_depth=11, min_child_weight=5, missing=-999, n_estimators=410, nthread=5, objective=binary:logistic, seed=1337, silent=0, subsample=0.5 \n",
      "[CV]  colsample_bytree=1.0, learning_rate=0.25, max_depth=11, min_child_weight=11, missing=-999, n_estimators=410, nthread=10, objective=binary:logistic, seed=1337, silent=0, subsample=1.0 -23.5min\n",
      "[CV] colsample_bytree=1.0, learning_rate=0.5, max_depth=11, min_child_weight=5, missing=-999, n_estimators=410, nthread=5, objective=binary:logistic, seed=1337, silent=0, subsample=0.5 \n",
      "[CV]  colsample_bytree=1.0, learning_rate=0.25, max_depth=11, min_child_weight=11, missing=-999, n_estimators=410, nthread=10, objective=binary:logistic, seed=1337, silent=0, subsample=1.0 -23.4min\n",
      "[CV] colsample_bytree=1.0, learning_rate=0.5, max_depth=11, min_child_weight=5, missing=-999, n_estimators=410, nthread=5, objective=binary:logistic, seed=1337, silent=0, subsample=0.5 \n",
      "[CV]  colsample_bytree=1.0, learning_rate=0.25, max_depth=11, min_child_weight=11, missing=-999, n_estimators=410, nthread=10, objective=binary:logistic, seed=1337, silent=0, subsample=1.0 -23.1min\n",
      "[CV] colsample_bytree=1.0, learning_rate=0.5, max_depth=11, min_child_weight=5, missing=-999, n_estimators=410, nthread=5, objective=binary:logistic, seed=1337, silent=0, subsample=0.5 \n",
      "[CV]  colsample_bytree=1.0, learning_rate=0.25, max_depth=11, min_child_weight=11, missing=-999, n_estimators=410, nthread=10, objective=binary:logistic, seed=1337, silent=0, subsample=1.0 -22.5min\n",
      "[CV] colsample_bytree=1.0, learning_rate=0.5, max_depth=11, min_child_weight=5, missing=-999, n_estimators=410, nthread=5, objective=binary:logistic, seed=1337, silent=0, subsample=1.0 \n",
      "[CV]  colsample_bytree=1.0, learning_rate=0.5, max_depth=11, min_child_weight=5, missing=-999, n_estimators=410, nthread=5, objective=binary:logistic, seed=1337, silent=0, subsample=0.5 -25.1min\n",
      "[CV] colsample_bytree=1.0, learning_rate=0.5, max_depth=11, min_child_weight=5, missing=-999, n_estimators=410, nthread=5, objective=binary:logistic, seed=1337, silent=0, subsample=1.0 \n",
      "[CV]  colsample_bytree=1.0, learning_rate=0.5, max_depth=11, min_child_weight=5, missing=-999, n_estimators=410, nthread=5, objective=binary:logistic, seed=1337, silent=0, subsample=0.5 -22.6min\n",
      "[CV] colsample_bytree=1.0, learning_rate=0.5, max_depth=11, min_child_weight=5, missing=-999, n_estimators=410, nthread=5, objective=binary:logistic, seed=1337, silent=0, subsample=1.0 \n",
      "[CV]  colsample_bytree=1.0, learning_rate=0.5, max_depth=11, min_child_weight=5, missing=-999, n_estimators=410, nthread=5, objective=binary:logistic, seed=1337, silent=0, subsample=0.5 -21.4min\n",
      "[CV] colsample_bytree=1.0, learning_rate=0.5, max_depth=11, min_child_weight=5, missing=-999, n_estimators=410, nthread=5, objective=binary:logistic, seed=1337, silent=0, subsample=1.0 \n",
      "[CV]  colsample_bytree=1.0, learning_rate=0.5, max_depth=11, min_child_weight=5, missing=-999, n_estimators=410, nthread=5, objective=binary:logistic, seed=1337, silent=0, subsample=0.5 -21.0min\n",
      "[CV] colsample_bytree=1.0, learning_rate=0.5, max_depth=11, min_child_weight=5, missing=-999, n_estimators=410, nthread=10, objective=binary:logistic, seed=1337, silent=0, subsample=0.5 \n",
      "[CV]  colsample_bytree=1.0, learning_rate=0.5, max_depth=11, min_child_weight=5, missing=-999, n_estimators=410, nthread=5, objective=binary:logistic, seed=1337, silent=0, subsample=1.0 -21.9min\n",
      "[CV] colsample_bytree=1.0, learning_rate=0.5, max_depth=11, min_child_weight=5, missing=-999, n_estimators=410, nthread=10, objective=binary:logistic, seed=1337, silent=0, subsample=0.5 \n",
      "[CV]  colsample_bytree=1.0, learning_rate=0.5, max_depth=11, min_child_weight=5, missing=-999, n_estimators=410, nthread=5, objective=binary:logistic, seed=1337, silent=0, subsample=1.0 -20.4min\n",
      "[CV] colsample_bytree=1.0, learning_rate=0.5, max_depth=11, min_child_weight=5, missing=-999, n_estimators=410, nthread=10, objective=binary:logistic, seed=1337, silent=0, subsample=0.5 \n",
      "[CV]  colsample_bytree=1.0, learning_rate=0.5, max_depth=11, min_child_weight=5, missing=-999, n_estimators=410, nthread=5, objective=binary:logistic, seed=1337, silent=0, subsample=1.0 -20.4min\n",
      "[CV] colsample_bytree=1.0, learning_rate=0.5, max_depth=11, min_child_weight=5, missing=-999, n_estimators=410, nthread=10, objective=binary:logistic, seed=1337, silent=0, subsample=0.5 \n",
      "[CV]  colsample_bytree=1.0, learning_rate=0.5, max_depth=11, min_child_weight=5, missing=-999, n_estimators=410, nthread=10, objective=binary:logistic, seed=1337, silent=0, subsample=0.5 -16.8min\n",
      "[CV] colsample_bytree=1.0, learning_rate=0.5, max_depth=11, min_child_weight=5, missing=-999, n_estimators=410, nthread=10, objective=binary:logistic, seed=1337, silent=0, subsample=1.0 \n",
      "[CV]  colsample_bytree=1.0, learning_rate=0.5, max_depth=11, min_child_weight=5, missing=-999, n_estimators=410, nthread=5, objective=binary:logistic, seed=1337, silent=0, subsample=1.0 -20.3min\n",
      "[CV] colsample_bytree=1.0, learning_rate=0.5, max_depth=11, min_child_weight=5, missing=-999, n_estimators=410, nthread=10, objective=binary:logistic, seed=1337, silent=0, subsample=1.0 \n",
      "[CV]  colsample_bytree=1.0, learning_rate=0.5, max_depth=11, min_child_weight=5, missing=-999, n_estimators=410, nthread=10, objective=binary:logistic, seed=1337, silent=0, subsample=0.5 -16.9min\n",
      "[CV] colsample_bytree=1.0, learning_rate=0.5, max_depth=11, min_child_weight=5, missing=-999, n_estimators=410, nthread=10, objective=binary:logistic, seed=1337, silent=0, subsample=1.0 \n",
      "[CV]  colsample_bytree=1.0, learning_rate=0.5, max_depth=11, min_child_weight=5, missing=-999, n_estimators=410, nthread=10, objective=binary:logistic, seed=1337, silent=0, subsample=0.5 -17.3min\n",
      "[CV] colsample_bytree=1.0, learning_rate=0.5, max_depth=11, min_child_weight=5, missing=-999, n_estimators=410, nthread=10, objective=binary:logistic, seed=1337, silent=0, subsample=1.0 \n",
      "[CV]  colsample_bytree=1.0, learning_rate=0.5, max_depth=11, min_child_weight=5, missing=-999, n_estimators=410, nthread=10, objective=binary:logistic, seed=1337, silent=0, subsample=0.5 -17.6min\n",
      "[CV] colsample_bytree=1.0, learning_rate=0.5, max_depth=11, min_child_weight=11, missing=-999, n_estimators=410, nthread=5, objective=binary:logistic, seed=1337, silent=0, subsample=0.5 \n",
      "[CV]  colsample_bytree=1.0, learning_rate=0.5, max_depth=11, min_child_weight=5, missing=-999, n_estimators=410, nthread=10, objective=binary:logistic, seed=1337, silent=0, subsample=1.0 -18.8min\n",
      "[CV] colsample_bytree=1.0, learning_rate=0.5, max_depth=11, min_child_weight=11, missing=-999, n_estimators=410, nthread=5, objective=binary:logistic, seed=1337, silent=0, subsample=0.5 \n"
     ]
    },
    {
     "name": "stdout",
     "output_type": "stream",
     "text": [
      "[CV]  colsample_bytree=1.0, learning_rate=0.5, max_depth=11, min_child_weight=5, missing=-999, n_estimators=410, nthread=10, objective=binary:logistic, seed=1337, silent=0, subsample=1.0 -18.9min\n",
      "[CV] colsample_bytree=1.0, learning_rate=0.5, max_depth=11, min_child_weight=11, missing=-999, n_estimators=410, nthread=5, objective=binary:logistic, seed=1337, silent=0, subsample=0.5 \n",
      "[CV]  colsample_bytree=1.0, learning_rate=0.5, max_depth=11, min_child_weight=5, missing=-999, n_estimators=410, nthread=10, objective=binary:logistic, seed=1337, silent=0, subsample=1.0 -18.7min\n",
      "[CV] colsample_bytree=1.0, learning_rate=0.5, max_depth=11, min_child_weight=11, missing=-999, n_estimators=410, nthread=5, objective=binary:logistic, seed=1337, silent=0, subsample=0.5 \n",
      "[CV]  colsample_bytree=1.0, learning_rate=0.5, max_depth=11, min_child_weight=5, missing=-999, n_estimators=410, nthread=10, objective=binary:logistic, seed=1337, silent=0, subsample=1.0 -17.7min\n",
      "[CV] colsample_bytree=1.0, learning_rate=0.5, max_depth=11, min_child_weight=11, missing=-999, n_estimators=410, nthread=5, objective=binary:logistic, seed=1337, silent=0, subsample=1.0 \n",
      "[CV]  colsample_bytree=1.0, learning_rate=0.5, max_depth=11, min_child_weight=11, missing=-999, n_estimators=410, nthread=5, objective=binary:logistic, seed=1337, silent=0, subsample=0.5 -18.6min\n",
      "[CV] colsample_bytree=1.0, learning_rate=0.5, max_depth=11, min_child_weight=11, missing=-999, n_estimators=410, nthread=5, objective=binary:logistic, seed=1337, silent=0, subsample=1.0 \n",
      "[CV]  colsample_bytree=1.0, learning_rate=0.5, max_depth=11, min_child_weight=11, missing=-999, n_estimators=410, nthread=5, objective=binary:logistic, seed=1337, silent=0, subsample=0.5 -18.1min\n",
      "[CV] colsample_bytree=1.0, learning_rate=0.5, max_depth=11, min_child_weight=11, missing=-999, n_estimators=410, nthread=5, objective=binary:logistic, seed=1337, silent=0, subsample=1.0 \n",
      "[CV]  colsample_bytree=1.0, learning_rate=0.5, max_depth=11, min_child_weight=11, missing=-999, n_estimators=410, nthread=5, objective=binary:logistic, seed=1337, silent=0, subsample=0.5 -17.7min\n",
      "[CV] colsample_bytree=1.0, learning_rate=0.5, max_depth=11, min_child_weight=11, missing=-999, n_estimators=410, nthread=5, objective=binary:logistic, seed=1337, silent=0, subsample=1.0 \n",
      "[CV]  colsample_bytree=1.0, learning_rate=0.5, max_depth=11, min_child_weight=11, missing=-999, n_estimators=410, nthread=5, objective=binary:logistic, seed=1337, silent=0, subsample=0.5 -17.4min\n",
      "[CV] colsample_bytree=1.0, learning_rate=0.5, max_depth=11, min_child_weight=11, missing=-999, n_estimators=410, nthread=10, objective=binary:logistic, seed=1337, silent=0, subsample=0.5 \n",
      "[CV]  colsample_bytree=1.0, learning_rate=0.5, max_depth=11, min_child_weight=11, missing=-999, n_estimators=410, nthread=5, objective=binary:logistic, seed=1337, silent=0, subsample=1.0 -19.8min\n",
      "[CV] colsample_bytree=1.0, learning_rate=0.5, max_depth=11, min_child_weight=11, missing=-999, n_estimators=410, nthread=10, objective=binary:logistic, seed=1337, silent=0, subsample=0.5 \n",
      "[CV]  colsample_bytree=1.0, learning_rate=0.5, max_depth=11, min_child_weight=11, missing=-999, n_estimators=410, nthread=5, objective=binary:logistic, seed=1337, silent=0, subsample=1.0 -21.5min\n",
      "[CV] colsample_bytree=1.0, learning_rate=0.5, max_depth=11, min_child_weight=11, missing=-999, n_estimators=410, nthread=10, objective=binary:logistic, seed=1337, silent=0, subsample=0.5 \n",
      "[CV]  colsample_bytree=1.0, learning_rate=0.5, max_depth=11, min_child_weight=11, missing=-999, n_estimators=410, nthread=10, objective=binary:logistic, seed=1337, silent=0, subsample=0.5 -16.2min\n",
      "[CV] colsample_bytree=1.0, learning_rate=0.5, max_depth=11, min_child_weight=11, missing=-999, n_estimators=410, nthread=10, objective=binary:logistic, seed=1337, silent=0, subsample=0.5 \n",
      "[CV]  colsample_bytree=1.0, learning_rate=0.5, max_depth=11, min_child_weight=11, missing=-999, n_estimators=410, nthread=5, objective=binary:logistic, seed=1337, silent=0, subsample=1.0 -22.1min\n",
      "[CV] colsample_bytree=1.0, learning_rate=0.5, max_depth=11, min_child_weight=11, missing=-999, n_estimators=410, nthread=10, objective=binary:logistic, seed=1337, silent=0, subsample=1.0 \n",
      "[CV]  colsample_bytree=1.0, learning_rate=0.5, max_depth=11, min_child_weight=11, missing=-999, n_estimators=410, nthread=5, objective=binary:logistic, seed=1337, silent=0, subsample=1.0 -23.2min\n",
      "[CV] colsample_bytree=1.0, learning_rate=0.5, max_depth=11, min_child_weight=11, missing=-999, n_estimators=410, nthread=10, objective=binary:logistic, seed=1337, silent=0, subsample=1.0 \n",
      "[CV]  colsample_bytree=1.0, learning_rate=0.5, max_depth=11, min_child_weight=11, missing=-999, n_estimators=410, nthread=10, objective=binary:logistic, seed=1337, silent=0, subsample=0.5 -19.8min\n",
      "[CV] colsample_bytree=1.0, learning_rate=0.5, max_depth=11, min_child_weight=11, missing=-999, n_estimators=410, nthread=10, objective=binary:logistic, seed=1337, silent=0, subsample=1.0 \n",
      "[CV]  colsample_bytree=1.0, learning_rate=0.5, max_depth=11, min_child_weight=11, missing=-999, n_estimators=410, nthread=10, objective=binary:logistic, seed=1337, silent=0, subsample=0.5 -22.7min\n",
      "[CV] colsample_bytree=1.0, learning_rate=0.5, max_depth=11, min_child_weight=11, missing=-999, n_estimators=410, nthread=10, objective=binary:logistic, seed=1337, silent=0, subsample=1.0 \n",
      "[CV]  colsample_bytree=1.0, learning_rate=0.5, max_depth=11, min_child_weight=11, missing=-999, n_estimators=410, nthread=10, objective=binary:logistic, seed=1337, silent=0, subsample=0.5 -23.3min\n",
      "[CV]  colsample_bytree=1.0, learning_rate=0.5, max_depth=11, min_child_weight=11, missing=-999, n_estimators=410, nthread=10, objective=binary:logistic, seed=1337, silent=0, subsample=1.0 -25.0min\n",
      "[CV]  colsample_bytree=1.0, learning_rate=0.5, max_depth=11, min_child_weight=11, missing=-999, n_estimators=410, nthread=10, objective=binary:logistic, seed=1337, silent=0, subsample=1.0 -23.7min\n",
      "[CV]  colsample_bytree=1.0, learning_rate=0.5, max_depth=11, min_child_weight=11, missing=-999, n_estimators=410, nthread=10, objective=binary:logistic, seed=1337, silent=0, subsample=1.0 -19.2min\n",
      "[CV]  colsample_bytree=1.0, learning_rate=0.5, max_depth=11, min_child_weight=11, missing=-999, n_estimators=410, nthread=10, objective=binary:logistic, seed=1337, silent=0, subsample=1.0 -10.9min\n"
     ]
    },
    {
     "name": "stderr",
     "output_type": "stream",
     "text": [
      "[Parallel(n_jobs=5)]: Done 192 out of 192 | elapsed: 589.8min finished\n"
     ]
    },
    {
     "name": "stdout",
     "output_type": "stream",
     "text": [
      "Raw AUC score: 0.9522944310463629\n",
      "colsample_bytree: 1.0\n",
      "learning_rate: 0.25\n",
      "max_depth: 11\n",
      "min_child_weight: 5\n",
      "missing: -999\n",
      "n_estimators: 410\n",
      "nthread: 5\n",
      "objective: 'binary:logistic'\n",
      "seed: 1337\n",
      "silent: 0\n",
      "subsample: 1.0\n"
     ]
    }
   ],
   "source": [
    "from sklearn.grid_search import GridSearchCV\n",
    "from sklearn import preprocessing\n",
    "from sklearn.cross_validation import *\n",
    "\n",
    "xgb_model = xgb.XGBClassifier()\n",
    "parameters = {'nthread':[5, 10], #when use hyperthread, xgboost may become slower\n",
    "              'objective':['binary:logistic'],\n",
    "              'learning_rate': [0.05, 0.25, 0.5], #so called `eta` value\n",
    "              'max_depth': [11],\n",
    "              'min_child_weight': [5, 11],\n",
    "              'silent': [0],\n",
    "              'subsample': [0.5, 1.0],\n",
    "              'colsample_bytree': [0.5, 1.0],\n",
    "              'n_estimators': [410], #number of trees, change it to 1000 for better results\n",
    "              'missing':[-999],\n",
    "              'seed': [1337]}\n",
    "clf = GridSearchCV(xgb_model, parameters, n_jobs=5, \n",
    "                   cv=StratifiedKFold(y_train, n_folds=4, shuffle=True), \n",
    "                   scoring='roc_auc',\n",
    "                   verbose=2, refit=True)\n",
    "clf.fit(X_train, y_train)\n",
    "best_parameters, score, _ = max(clf.grid_scores_, key=lambda x: x[1])\n",
    "print('Raw AUC score:', score)\n",
    "for param_name in sorted(best_parameters.keys()):\n",
    "    print(\"%s: %r\" % (param_name, best_parameters[param_name]))\n",
    "\n",
    "sample_submission = pd.read_csv('sample_submission.csv', index_col='TransactionID')\n",
    "sample_submission['isFraud'] = clf.predict_proba(X_test)[:,1]\n",
    "sample_submission.to_csv('NEW.csv')"
   ]
  },
  {
   "cell_type": "code",
   "execution_count": null,
   "metadata": {},
   "outputs": [],
   "source": [
    "from sklearn import cross_validation\n",
    "\n",
    "\n",
    "n_trees = list(range(10,500,50))\n",
    "xgb_scoring = []\n",
    "for n_tree in n_trees:\n",
    "    clf = xgb.XGBClassifier(n_estimators=n_tree,\n",
    "                        n_jobs=4,\n",
    "                        max_depth=5, min_child_weight = 1, gamma = 0.1,\n",
    "                        learning_rate=0.05,\n",
    "                        subsample=0.8,\n",
    "                        colsample_bytree=0.8,\n",
    "                        missing=-999)\n",
    "\n",
    "\n",
    "    score = cross_validation.cross_val_score(clf, X_train, y_train, \n",
    "                                             scoring = 'accuracy', cv = 3)    \n",
    "    xgb_scoring.append(score)\n",
    "xgb_scoring = np.asmatrix(xgb_scoring)"
   ]
  },
  {
   "cell_type": "code",
   "execution_count": null,
   "metadata": {},
   "outputs": [],
   "source": [
    "import pylab\n",
    "pylab.plot(n_trees, xgb_scoring.mean(axis = 1), marker='.', label='XGBoost')\n",
    "pylab.grid(True)\n",
    "pylab.xlabel('n_trees')\n",
    "pylab.ylabel('score')\n",
    "pylab.title('Accuracy score')\n",
    "pylab.legend(loc='lower right')"
   ]
  },
  {
   "cell_type": "code",
   "execution_count": null,
   "metadata": {},
   "outputs": [],
   "source": [
    "childs = list(range(1,6,1))\n",
    "xgb_scoring = []\n",
    "for ch in childs:\n",
    "    clf = xgb.XGBClassifier(n_estimators=410,\n",
    "                        n_jobs=4,\n",
    "                        max_depth=5, min_child_weight = ch, gamma = 0.1,\n",
    "                        learning_rate=0.05,\n",
    "                        subsample=0.8,\n",
    "                        colsample_bytree=0.8,\n",
    "                        missing=-999)\n",
    "\n",
    "\n",
    "    score = cross_validation.cross_val_score(clf, X_train, y_train, \n",
    "                                             scoring = 'accuracy', cv = 3)    \n",
    "    xgb_scoring.append(score)\n",
    "xgb_scoring = np.asmatrix(xgb_scoring)"
   ]
  },
  {
   "cell_type": "code",
   "execution_count": null,
   "metadata": {},
   "outputs": [],
   "source": [
    "pylab.plot(range(1,6,1), xgb_scoring.mean(axis = 1), marker='.', label='XGBoost')\n",
    "pylab.grid(True)\n",
    "pylab.xlabel('n_trees')\n",
    "pylab.ylabel('score')\n",
    "pylab.title('Accuracy score')\n",
    "pylab.legend(loc='lower right')"
   ]
  },
  {
   "cell_type": "code",
   "execution_count": null,
   "metadata": {},
   "outputs": [],
   "source": [
    "dpth = list(range(1,10,1))\n",
    "xgb_scoring = []\n",
    "for d in dpth:\n",
    "    clf = xgb.XGBClassifier(n_estimators=410,\n",
    "                        n_jobs=4,\n",
    "                        max_depth=d, min_child_weight = 2, gamma = 0.1,\n",
    "                        learning_rate=0.05,\n",
    "                        subsample=0.8,\n",
    "                        colsample_bytree=0.8,\n",
    "                        missing=-999)\n",
    "\n",
    "\n",
    "    score = cross_validation.cross_val_score(clf, X_train, y_train, \n",
    "                                             scoring = 'accuracy', cv = 3)    \n",
    "    xgb_scoring.append(score)\n",
    "xgb_scoring = np.asmatrix(xgb_scoring)"
   ]
  },
  {
   "cell_type": "code",
   "execution_count": null,
   "metadata": {},
   "outputs": [],
   "source": [
    "pylab.plot(range(1,10,1), xgb_scoring.mean(axis = 1), marker='.', label='XGBoost')\n",
    "pylab.grid(True)\n",
    "pylab.xlabel('n_trees')\n",
    "pylab.ylabel('score')\n",
    "pylab.title('Accuracy score')\n",
    "pylab.legend(loc='lower right')"
   ]
  },
  {
   "cell_type": "code",
   "execution_count": null,
   "metadata": {},
   "outputs": [],
   "source": []
  }
 ],
 "metadata": {
  "kernelspec": {
   "display_name": "Python 3",
   "language": "python",
   "name": "python3"
  },
  "language_info": {
   "codemirror_mode": {
    "name": "ipython",
    "version": 3
   },
   "file_extension": ".py",
   "mimetype": "text/x-python",
   "name": "python",
   "nbconvert_exporter": "python",
   "pygments_lexer": "ipython3",
   "version": "3.6.5"
  }
 },
 "nbformat": 4,
 "nbformat_minor": 2
}
